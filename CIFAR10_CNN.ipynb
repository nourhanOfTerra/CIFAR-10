{
  "nbformat": 4,
  "nbformat_minor": 0,
  "metadata": {
    "colab": {
      "name": "CIFAR10_CNN.ipynb",
      "provenance": [],
      "collapsed_sections": [],
      "machine_shape": "hm",
      "authorship_tag": "ABX9TyNr4ZnNUlTkUWxnS8unMRTC",
      "include_colab_link": true
    },
    "kernelspec": {
      "name": "python3",
      "display_name": "Python 3"
    },
    "language_info": {
      "name": "python"
    }
  },
  "cells": [
    {
      "cell_type": "markdown",
      "metadata": {
        "id": "view-in-github",
        "colab_type": "text"
      },
      "source": [
        "<a href=\"https://colab.research.google.com/github/nourhanOfTerra/CIFAR-10/blob/main/CIFAR10_CNN.ipynb\" target=\"_parent\"><img src=\"https://colab.research.google.com/assets/colab-badge.svg\" alt=\"Open In Colab\"/></a>"
      ]
    },
    {
      "cell_type": "markdown",
      "source": [
        "#CIFAR-10 Classification Model: Convolutional Neural Networks\n",
        "\n",
        "Source 1: https://towardsdatascience.com/cifar-10-image-classification-in-tensorflow-5b501f7dc77c\n",
        "\n",
        "Source 2: https://www.tensorflow.org/tutorials/images/cnn\n",
        "\n",
        "Source 3: https://machinelearningmastery.com/how-to-stop-training-deep-neural-networks-at-the-right-time-using-early-stopping/\n",
        "\n",
        "Source 4: https://neptune.ai/blog/keras-metrics\n"
      ],
      "metadata": {
        "id": "sWBfVQMzXun7"
      }
    },
    {
      "cell_type": "markdown",
      "source": [
        "##Mounting Google Drive"
      ],
      "metadata": {
        "id": "1L01YKsWXt2Z"
      }
    },
    {
      "cell_type": "code",
      "execution_count": 1,
      "metadata": {
        "colab": {
          "base_uri": "https://localhost:8080/"
        },
        "id": "3YXvZq_OXaai",
        "outputId": "75a27c3d-5050-4c78-d87f-788b0c042aec"
      },
      "outputs": [
        {
          "output_type": "stream",
          "name": "stdout",
          "text": [
            "Mounted at /content/drive\n"
          ]
        }
      ],
      "source": [
        "from google.colab import drive\n",
        "drive.mount('/content/drive')\n",
        "import os\n",
        "os.chdir('/content/drive/MyDrive/CIFAR-10')"
      ]
    },
    {
      "cell_type": "markdown",
      "metadata": {
        "id": "SuOC_n6FrYRz"
      },
      "source": [
        "##Importing the necessary libraries"
      ]
    },
    {
      "cell_type": "code",
      "source": [
        "!pip3 install tensorflow==2.7.0\n",
        "!pip3 install h5py"
      ],
      "metadata": {
        "colab": {
          "base_uri": "https://localhost:8080/"
        },
        "id": "np5muKtUGTIy",
        "outputId": "db02ea26-5fcb-426f-9e2b-f2d3d2b5a94c"
      },
      "execution_count": 2,
      "outputs": [
        {
          "output_type": "stream",
          "name": "stdout",
          "text": [
            "Collecting tensorflow==2.7.0\n",
            "  Downloading tensorflow-2.7.0-cp37-cp37m-manylinux2010_x86_64.whl (489.6 MB)\n",
            "\u001b[K     |████████████████████████████████| 489.6 MB 21 kB/s \n",
            "\u001b[?25hRequirement already satisfied: opt-einsum>=2.3.2 in /usr/local/lib/python3.7/dist-packages (from tensorflow==2.7.0) (3.3.0)\n",
            "Requirement already satisfied: wheel<1.0,>=0.32.0 in /usr/local/lib/python3.7/dist-packages (from tensorflow==2.7.0) (0.37.1)\n",
            "Requirement already satisfied: six>=1.12.0 in /usr/local/lib/python3.7/dist-packages (from tensorflow==2.7.0) (1.15.0)\n",
            "Requirement already satisfied: grpcio<2.0,>=1.24.3 in /usr/local/lib/python3.7/dist-packages (from tensorflow==2.7.0) (1.44.0)\n",
            "Requirement already satisfied: absl-py>=0.4.0 in /usr/local/lib/python3.7/dist-packages (from tensorflow==2.7.0) (1.0.0)\n",
            "Requirement already satisfied: protobuf>=3.9.2 in /usr/local/lib/python3.7/dist-packages (from tensorflow==2.7.0) (3.17.3)\n",
            "Collecting keras<2.8,>=2.7.0rc0\n",
            "  Downloading keras-2.7.0-py2.py3-none-any.whl (1.3 MB)\n",
            "\u001b[K     |████████████████████████████████| 1.3 MB 55.3 MB/s \n",
            "\u001b[?25hRequirement already satisfied: h5py>=2.9.0 in /usr/local/lib/python3.7/dist-packages (from tensorflow==2.7.0) (3.1.0)\n",
            "Collecting gast<0.5.0,>=0.2.1\n",
            "  Downloading gast-0.4.0-py3-none-any.whl (9.8 kB)\n",
            "Requirement already satisfied: wrapt>=1.11.0 in /usr/local/lib/python3.7/dist-packages (from tensorflow==2.7.0) (1.14.0)\n",
            "Requirement already satisfied: typing-extensions>=3.6.6 in /usr/local/lib/python3.7/dist-packages (from tensorflow==2.7.0) (4.2.0)\n",
            "Requirement already satisfied: astunparse>=1.6.0 in /usr/local/lib/python3.7/dist-packages (from tensorflow==2.7.0) (1.6.3)\n",
            "Requirement already satisfied: termcolor>=1.1.0 in /usr/local/lib/python3.7/dist-packages (from tensorflow==2.7.0) (1.1.0)\n",
            "Requirement already satisfied: libclang>=9.0.1 in /usr/local/lib/python3.7/dist-packages (from tensorflow==2.7.0) (14.0.1)\n",
            "Requirement already satisfied: numpy>=1.14.5 in /usr/local/lib/python3.7/dist-packages (from tensorflow==2.7.0) (1.21.6)\n",
            "Requirement already satisfied: google-pasta>=0.1.1 in /usr/local/lib/python3.7/dist-packages (from tensorflow==2.7.0) (0.2.0)\n",
            "Requirement already satisfied: keras-preprocessing>=1.1.1 in /usr/local/lib/python3.7/dist-packages (from tensorflow==2.7.0) (1.1.2)\n",
            "Requirement already satisfied: tensorboard~=2.6 in /usr/local/lib/python3.7/dist-packages (from tensorflow==2.7.0) (2.8.0)\n",
            "Requirement already satisfied: flatbuffers<3.0,>=1.12 in /usr/local/lib/python3.7/dist-packages (from tensorflow==2.7.0) (2.0)\n",
            "Requirement already satisfied: tensorflow-io-gcs-filesystem>=0.21.0 in /usr/local/lib/python3.7/dist-packages (from tensorflow==2.7.0) (0.25.0)\n",
            "Collecting tensorflow-estimator<2.8,~=2.7.0rc0\n",
            "  Downloading tensorflow_estimator-2.7.0-py2.py3-none-any.whl (463 kB)\n",
            "\u001b[K     |████████████████████████████████| 463 kB 63.2 MB/s \n",
            "\u001b[?25hRequirement already satisfied: cached-property in /usr/local/lib/python3.7/dist-packages (from h5py>=2.9.0->tensorflow==2.7.0) (1.5.2)\n",
            "Requirement already satisfied: tensorboard-data-server<0.7.0,>=0.6.0 in /usr/local/lib/python3.7/dist-packages (from tensorboard~=2.6->tensorflow==2.7.0) (0.6.1)\n",
            "Requirement already satisfied: werkzeug>=0.11.15 in /usr/local/lib/python3.7/dist-packages (from tensorboard~=2.6->tensorflow==2.7.0) (1.0.1)\n",
            "Requirement already satisfied: setuptools>=41.0.0 in /usr/local/lib/python3.7/dist-packages (from tensorboard~=2.6->tensorflow==2.7.0) (57.4.0)\n",
            "Requirement already satisfied: requests<3,>=2.21.0 in /usr/local/lib/python3.7/dist-packages (from tensorboard~=2.6->tensorflow==2.7.0) (2.23.0)\n",
            "Requirement already satisfied: google-auth<3,>=1.6.3 in /usr/local/lib/python3.7/dist-packages (from tensorboard~=2.6->tensorflow==2.7.0) (1.35.0)\n",
            "Requirement already satisfied: google-auth-oauthlib<0.5,>=0.4.1 in /usr/local/lib/python3.7/dist-packages (from tensorboard~=2.6->tensorflow==2.7.0) (0.4.6)\n",
            "Requirement already satisfied: markdown>=2.6.8 in /usr/local/lib/python3.7/dist-packages (from tensorboard~=2.6->tensorflow==2.7.0) (3.3.6)\n",
            "Requirement already satisfied: tensorboard-plugin-wit>=1.6.0 in /usr/local/lib/python3.7/dist-packages (from tensorboard~=2.6->tensorflow==2.7.0) (1.8.1)\n",
            "Requirement already satisfied: cachetools<5.0,>=2.0.0 in /usr/local/lib/python3.7/dist-packages (from google-auth<3,>=1.6.3->tensorboard~=2.6->tensorflow==2.7.0) (4.2.4)\n",
            "Requirement already satisfied: rsa<5,>=3.1.4 in /usr/local/lib/python3.7/dist-packages (from google-auth<3,>=1.6.3->tensorboard~=2.6->tensorflow==2.7.0) (4.8)\n",
            "Requirement already satisfied: pyasn1-modules>=0.2.1 in /usr/local/lib/python3.7/dist-packages (from google-auth<3,>=1.6.3->tensorboard~=2.6->tensorflow==2.7.0) (0.2.8)\n",
            "Requirement already satisfied: requests-oauthlib>=0.7.0 in /usr/local/lib/python3.7/dist-packages (from google-auth-oauthlib<0.5,>=0.4.1->tensorboard~=2.6->tensorflow==2.7.0) (1.3.1)\n",
            "Requirement already satisfied: importlib-metadata>=4.4 in /usr/local/lib/python3.7/dist-packages (from markdown>=2.6.8->tensorboard~=2.6->tensorflow==2.7.0) (4.11.3)\n",
            "Requirement already satisfied: zipp>=0.5 in /usr/local/lib/python3.7/dist-packages (from importlib-metadata>=4.4->markdown>=2.6.8->tensorboard~=2.6->tensorflow==2.7.0) (3.8.0)\n",
            "Requirement already satisfied: pyasn1<0.5.0,>=0.4.6 in /usr/local/lib/python3.7/dist-packages (from pyasn1-modules>=0.2.1->google-auth<3,>=1.6.3->tensorboard~=2.6->tensorflow==2.7.0) (0.4.8)\n",
            "Requirement already satisfied: certifi>=2017.4.17 in /usr/local/lib/python3.7/dist-packages (from requests<3,>=2.21.0->tensorboard~=2.6->tensorflow==2.7.0) (2021.10.8)\n",
            "Requirement already satisfied: idna<3,>=2.5 in /usr/local/lib/python3.7/dist-packages (from requests<3,>=2.21.0->tensorboard~=2.6->tensorflow==2.7.0) (2.10)\n",
            "Requirement already satisfied: chardet<4,>=3.0.2 in /usr/local/lib/python3.7/dist-packages (from requests<3,>=2.21.0->tensorboard~=2.6->tensorflow==2.7.0) (3.0.4)\n",
            "Requirement already satisfied: urllib3!=1.25.0,!=1.25.1,<1.26,>=1.21.1 in /usr/local/lib/python3.7/dist-packages (from requests<3,>=2.21.0->tensorboard~=2.6->tensorflow==2.7.0) (1.24.3)\n",
            "Requirement already satisfied: oauthlib>=3.0.0 in /usr/local/lib/python3.7/dist-packages (from requests-oauthlib>=0.7.0->google-auth-oauthlib<0.5,>=0.4.1->tensorboard~=2.6->tensorflow==2.7.0) (3.2.0)\n",
            "Installing collected packages: tensorflow-estimator, keras, gast, tensorflow\n",
            "  Attempting uninstall: tensorflow-estimator\n",
            "    Found existing installation: tensorflow-estimator 2.8.0\n",
            "    Uninstalling tensorflow-estimator-2.8.0:\n",
            "      Successfully uninstalled tensorflow-estimator-2.8.0\n",
            "  Attempting uninstall: keras\n",
            "    Found existing installation: keras 2.8.0\n",
            "    Uninstalling keras-2.8.0:\n",
            "      Successfully uninstalled keras-2.8.0\n",
            "  Attempting uninstall: gast\n",
            "    Found existing installation: gast 0.5.3\n",
            "    Uninstalling gast-0.5.3:\n",
            "      Successfully uninstalled gast-0.5.3\n",
            "  Attempting uninstall: tensorflow\n",
            "    Found existing installation: tensorflow 2.8.0\n",
            "    Uninstalling tensorflow-2.8.0:\n",
            "      Successfully uninstalled tensorflow-2.8.0\n",
            "Successfully installed gast-0.4.0 keras-2.7.0 tensorflow-2.7.0 tensorflow-estimator-2.7.0\n",
            "Requirement already satisfied: h5py in /usr/local/lib/python3.7/dist-packages (3.1.0)\n",
            "Requirement already satisfied: cached-property in /usr/local/lib/python3.7/dist-packages (from h5py) (1.5.2)\n",
            "Requirement already satisfied: numpy>=1.14.5 in /usr/local/lib/python3.7/dist-packages (from h5py) (1.21.6)\n"
          ]
        }
      ]
    },
    {
      "cell_type": "markdown",
      "metadata": {
        "id": "TYqv80wtUTp_"
      },
      "source": [
        "###General Libraries"
      ]
    },
    {
      "cell_type": "code",
      "execution_count": 3,
      "metadata": {
        "id": "OF7ZOOF6rgw9"
      },
      "outputs": [],
      "source": [
        "import numpy as np\n",
        "import matplotlib.pyplot as plt\n",
        "import pandas as pd"
      ]
    },
    {
      "cell_type": "markdown",
      "metadata": {
        "id": "o0uGS4YUUPMD"
      },
      "source": [
        "###Model Specific Libraris"
      ]
    },
    {
      "cell_type": "code",
      "execution_count": 4,
      "metadata": {
        "id": "Oqd-bOlbUOqI"
      },
      "outputs": [],
      "source": [
        "import tensorflow as tf\n",
        "import math\n",
        "import random\n",
        "from sklearn import preprocessing\n",
        "from sklearn import svm\n",
        "from sklearn.model_selection import train_test_split\n",
        "from sklearn.preprocessing import StandardScaler\n",
        "from sklearn.preprocessing import OneHotEncoder\n",
        "from sklearn.metrics import classification_report, confusion_matrix, accuracy_score\n",
        "from time import time\n",
        "from tensorflow.keras import datasets, layers, models\n",
        "from tensorflow.keras.callbacks import EarlyStopping, ModelCheckpoint\n",
        "from tensorflow.keras.metrics import Precision, Recall, AUC\n",
        "from tensorflow.keras.models import load_model"
      ]
    },
    {
      "cell_type": "markdown",
      "metadata": {
        "id": "eQPPJG_epm2Y"
      },
      "source": [
        "##Importing the data from csv files to variables\n",
        "Note that since we are applying CNNs here, no need for feature extraction. Therefore, we should use the original features as they are."
      ]
    },
    {
      "cell_type": "code",
      "execution_count": 5,
      "metadata": {
        "id": "-X70qDJpprrP"
      },
      "outputs": [],
      "source": [
        "df_features = pd.read_csv('features.csv')\n",
        "df_labels = pd.read_csv('labels.csv')"
      ]
    },
    {
      "cell_type": "markdown",
      "source": [
        "Now converting to numpy arrays as they are easier to deal with in the upcoming functions of the scikit-learn library."
      ],
      "metadata": {
        "id": "oaj2KTTV7LsN"
      }
    },
    {
      "cell_type": "code",
      "source": [
        "features = df_features.to_numpy()\n",
        "labels = df_labels.to_numpy()"
      ],
      "metadata": {
        "id": "pK2-6Usg5OUs"
      },
      "execution_count": 6,
      "outputs": []
    },
    {
      "cell_type": "markdown",
      "source": [
        "##Normalizing the features\n",
        "This would be useful for the activation functions."
      ],
      "metadata": {
        "id": "e1T4Gb1Abfyp"
      }
    },
    {
      "cell_type": "code",
      "source": [
        "scaler = preprocessing.MinMaxScaler()\n",
        "normalized_features = scaler.fit_transform(features)"
      ],
      "metadata": {
        "id": "KT6SJbWGbfyq"
      },
      "execution_count": 7,
      "outputs": []
    },
    {
      "cell_type": "markdown",
      "source": [
        "##Encoding the labels using one-hot encoding\n",
        "The reason for that is that there is no real relation between the integer values in the original labels vector and the labels. This might be misleading for the model. One hot encoding might be better in this case."
      ],
      "metadata": {
        "id": "mhoVGiAecf3s"
      }
    },
    {
      "cell_type": "code",
      "source": [
        "encoder = OneHotEncoder(sparse = False)\n",
        "encoded_labels = encoder.fit_transform(labels)"
      ],
      "metadata": {
        "id": "6doyzeBpcnfS"
      },
      "execution_count": 8,
      "outputs": []
    },
    {
      "cell_type": "markdown",
      "source": [
        "##Reshaping the feature matrix for Tensorflow\n"
      ],
      "metadata": {
        "id": "4Cqwe1GNUX7g"
      }
    },
    {
      "cell_type": "code",
      "source": [
        "reshaped_features = np.reshape(normalized_features, (60000, 3, 32, 32))\n",
        "transposed_features = reshaped_features.transpose(0, 2, 3, 1)"
      ],
      "metadata": {
        "id": "olQweoOSUda5"
      },
      "execution_count": 9,
      "outputs": []
    },
    {
      "cell_type": "markdown",
      "source": [
        "##Ensuring results reproducibility"
      ],
      "metadata": {
        "id": "Dqti_ojlRavw"
      }
    },
    {
      "cell_type": "code",
      "source": [
        "#os.environ['TF_DETERMINISTIC_OPS'] = '1'\n",
        "#SEED = 20\n",
        "#os.environ['PYTHONHASHSEED'] = str(SEED)\n",
        "#random.seed(SEED)\n",
        "#np.random.seed(SEED)\n",
        "#tf.random.set_seed(SEED)"
      ],
      "metadata": {
        "id": "KzGgBJ3sRl18"
      },
      "execution_count": 21,
      "outputs": []
    },
    {
      "cell_type": "markdown",
      "source": [
        "##Setting the parameters"
      ],
      "metadata": {
        "id": "Mudg9s8YQHtt"
      }
    },
    {
      "cell_type": "code",
      "source": [
        "SIZE = 32                                                                       # Don't Change\n",
        "BATCHES = 32\n",
        "EPOCHS = 100\n",
        "LEARNING_RATE = 0.001\n",
        "ACTIVATION = 'relu'\n",
        "FILTER = (3, 3)                                                                 # Don't Change\n",
        "POOLING = (1, 1)                                                                # Don't Change\n",
        "OPTIMIZER = 'adam'\n",
        "LOSS = tf.keras.losses.CategoricalCrossentropy(from_logits = True)              \n",
        "METRICS = ['accuracy']\n",
        "TEST = 10000/60000                                                              # Don't Change\n",
        "VALIDATION = 10000/50000                                                        # Don't Change\n",
        "INPUT_SHAPE = (32, 32, 3)                                                       # Don't Change\n",
        "OUTPUTS = 10                                                                    # Don't Change"
      ],
      "metadata": {
        "id": "2h5Yl73NNGHy"
      },
      "execution_count": 10,
      "outputs": []
    },
    {
      "cell_type": "markdown",
      "source": [
        "##Dividing the dataset into training, validation and testing sets"
      ],
      "metadata": {
        "id": "CONf33Njjv0w"
      }
    },
    {
      "cell_type": "code",
      "source": [
        "X_train, X_test, y_train, y_test = train_test_split(transposed_features, encoded_labels, test_size = TEST)\n",
        "X_train, X_val, y_train, y_val = train_test_split(X_train, y_train, test_size = VALIDATION)"
      ],
      "metadata": {
        "id": "04MPM0URjwEQ"
      },
      "execution_count": 11,
      "outputs": []
    },
    {
      "cell_type": "markdown",
      "source": [
        "##Building the model"
      ],
      "metadata": {
        "id": "-iK3EebA_P4I"
      }
    },
    {
      "cell_type": "markdown",
      "source": [
        "###Convolutional and MaxPooling layers"
      ],
      "metadata": {
        "id": "pnjXCbYYCsyn"
      }
    },
    {
      "cell_type": "code",
      "source": [
        "model = models.Sequential()\n",
        "model.add(layers.Conv2D(SIZE, FILTER, activation = ACTIVATION, input_shape = INPUT_SHAPE))             # First convolution layer\n",
        "model.add(layers.MaxPooling2D(POOLING))                                                                # First MaxPooling\n",
        "model.add(layers.Conv2D(2*SIZE, FILTER, activation = ACTIVATION))                                      # Second convolution layer\n",
        "model.add(layers.MaxPooling2D(POOLING))                                                                # Second MaxPooling\n",
        "model.add(layers.Conv2D(2*SIZE, FILTER, activation = ACTIVATION))\n",
        "model.add(layers.MaxPooling2D(POOLING))                                                                \n",
        "model.add(layers.Conv2D(2*SIZE, FILTER, activation = ACTIVATION))\n",
        "model.summary()"
      ],
      "metadata": {
        "colab": {
          "base_uri": "https://localhost:8080/"
        },
        "id": "lbODduIv_vHP",
        "outputId": "55502053-e71e-44d6-e001-1d522cae376b"
      },
      "execution_count": 12,
      "outputs": [
        {
          "output_type": "stream",
          "name": "stdout",
          "text": [
            "Model: \"sequential\"\n",
            "_________________________________________________________________\n",
            " Layer (type)                Output Shape              Param #   \n",
            "=================================================================\n",
            " conv2d (Conv2D)             (None, 30, 30, 32)        896       \n",
            "                                                                 \n",
            " max_pooling2d (MaxPooling2D  (None, 30, 30, 32)       0         \n",
            " )                                                               \n",
            "                                                                 \n",
            " conv2d_1 (Conv2D)           (None, 28, 28, 64)        18496     \n",
            "                                                                 \n",
            " max_pooling2d_1 (MaxPooling  (None, 28, 28, 64)       0         \n",
            " 2D)                                                             \n",
            "                                                                 \n",
            " conv2d_2 (Conv2D)           (None, 26, 26, 64)        36928     \n",
            "                                                                 \n",
            " max_pooling2d_2 (MaxPooling  (None, 26, 26, 64)       0         \n",
            " 2D)                                                             \n",
            "                                                                 \n",
            " conv2d_3 (Conv2D)           (None, 24, 24, 64)        36928     \n",
            "                                                                 \n",
            "=================================================================\n",
            "Total params: 93,248\n",
            "Trainable params: 93,248\n",
            "Non-trainable params: 0\n",
            "_________________________________________________________________\n"
          ]
        }
      ]
    },
    {
      "cell_type": "markdown",
      "source": [
        "###Dense layers"
      ],
      "metadata": {
        "id": "asJ82Sp1D36j"
      }
    },
    {
      "cell_type": "code",
      "source": [
        "model.add(layers.Flatten())                                 # Flattening because input to this layer is 3D Tensor\n",
        "model.add(layers.Dense(2*SIZE, activation = ACTIVATION))    \n",
        "model.add(layers.Dense(OUTPUTS))                            # Output layer (10 outputs for 10 classes)\n",
        "model.summary()"
      ],
      "metadata": {
        "colab": {
          "base_uri": "https://localhost:8080/"
        },
        "id": "k7lIvD6cD67t",
        "outputId": "133001a0-ed36-47a5-c2e0-929aa67a698a"
      },
      "execution_count": 13,
      "outputs": [
        {
          "output_type": "stream",
          "name": "stdout",
          "text": [
            "Model: \"sequential\"\n",
            "_________________________________________________________________\n",
            " Layer (type)                Output Shape              Param #   \n",
            "=================================================================\n",
            " conv2d (Conv2D)             (None, 30, 30, 32)        896       \n",
            "                                                                 \n",
            " max_pooling2d (MaxPooling2D  (None, 30, 30, 32)       0         \n",
            " )                                                               \n",
            "                                                                 \n",
            " conv2d_1 (Conv2D)           (None, 28, 28, 64)        18496     \n",
            "                                                                 \n",
            " max_pooling2d_1 (MaxPooling  (None, 28, 28, 64)       0         \n",
            " 2D)                                                             \n",
            "                                                                 \n",
            " conv2d_2 (Conv2D)           (None, 26, 26, 64)        36928     \n",
            "                                                                 \n",
            " max_pooling2d_2 (MaxPooling  (None, 26, 26, 64)       0         \n",
            " 2D)                                                             \n",
            "                                                                 \n",
            " conv2d_3 (Conv2D)           (None, 24, 24, 64)        36928     \n",
            "                                                                 \n",
            " flatten (Flatten)           (None, 36864)             0         \n",
            "                                                                 \n",
            " dense (Dense)               (None, 64)                2359360   \n",
            "                                                                 \n",
            " dense_1 (Dense)             (None, 10)                650       \n",
            "                                                                 \n",
            "=================================================================\n",
            "Total params: 2,453,258\n",
            "Trainable params: 2,453,258\n",
            "Non-trainable params: 0\n",
            "_________________________________________________________________\n"
          ]
        }
      ]
    },
    {
      "cell_type": "markdown",
      "source": [
        "##Early Stopping and Model Checkpoint callback functions"
      ],
      "metadata": {
        "id": "1nwq0wGRqxZL"
      }
    },
    {
      "cell_type": "code",
      "source": [
        "early_stopping = EarlyStopping(monitor = 'val_accuracy', mode = 'max', patience = 10, verbose = 1, min_delta = 0.01)\n",
        "check_point = ModelCheckpoint('best_cnn.h5', monitor = 'val_accuracy', mode = 'max', save_best_only = True, verbose = 1)\n",
        "CALLBACKS = [early_stopping, check_point]"
      ],
      "metadata": {
        "id": "i8LWR_xOqaPt"
      },
      "execution_count": 14,
      "outputs": []
    },
    {
      "cell_type": "markdown",
      "source": [
        "##Training"
      ],
      "metadata": {
        "id": "mV_KERjhFpl4"
      }
    },
    {
      "cell_type": "code",
      "source": [
        "model.compile(optimizer = OPTIMIZER, loss = LOSS, metrics = METRICS)\n",
        "fitted_model = model.fit(X_train, y_train, batch_size = BATCHES, epochs = EPOCHS, validation_data = (X_val, y_val), callbacks = CALLBACKS)"
      ],
      "metadata": {
        "colab": {
          "base_uri": "https://localhost:8080/"
        },
        "id": "2AYuRIVeFtyG",
        "outputId": "009e0cdc-9ac7-4c14-976f-a0bc76d5d5e2"
      },
      "execution_count": null,
      "outputs": [
        {
          "output_type": "stream",
          "name": "stdout",
          "text": [
            "Epoch 1/100\n",
            "1250/1250 [==============================] - ETA: 0s - loss: 1.5229 - accuracy: 0.4494\n",
            "Epoch 00001: val_accuracy improved from -inf to 0.55930, saving model to best_cnn.h5\n",
            "1250/1250 [==============================] - 317s 253ms/step - loss: 1.5229 - accuracy: 0.4494 - val_loss: 1.2400 - val_accuracy: 0.5593\n",
            "Epoch 2/100\n",
            "1250/1250 [==============================] - ETA: 0s - loss: 1.0944 - accuracy: 0.6133\n",
            "Epoch 00002: val_accuracy improved from 0.55930 to 0.64810, saving model to best_cnn.h5\n",
            "1250/1250 [==============================] - 316s 252ms/step - loss: 1.0944 - accuracy: 0.6133 - val_loss: 1.0146 - val_accuracy: 0.6481\n",
            "Epoch 3/100\n",
            "1250/1250 [==============================] - ETA: 0s - loss: 0.8850 - accuracy: 0.6876\n",
            "Epoch 00003: val_accuracy improved from 0.64810 to 0.65410, saving model to best_cnn.h5\n",
            "1250/1250 [==============================] - 308s 247ms/step - loss: 0.8850 - accuracy: 0.6876 - val_loss: 0.9826 - val_accuracy: 0.6541\n",
            "Epoch 4/100\n",
            "1250/1250 [==============================] - ETA: 0s - loss: 0.7164 - accuracy: 0.7498\n",
            "Epoch 00004: val_accuracy improved from 0.65410 to 0.67410, saving model to best_cnn.h5\n",
            "1250/1250 [==============================] - 311s 248ms/step - loss: 0.7164 - accuracy: 0.7498 - val_loss: 0.9756 - val_accuracy: 0.6741\n",
            "Epoch 5/100\n",
            "1250/1250 [==============================] - ETA: 0s - loss: 0.5264 - accuracy: 0.8152\n",
            "Epoch 00005: val_accuracy did not improve from 0.67410\n",
            "1250/1250 [==============================] - 308s 246ms/step - loss: 0.5264 - accuracy: 0.8152 - val_loss: 1.0404 - val_accuracy: 0.6708\n",
            "Epoch 6/100\n",
            "1250/1250 [==============================] - ETA: 0s - loss: 0.3608 - accuracy: 0.8733\n",
            "Epoch 00006: val_accuracy did not improve from 0.67410\n",
            "1250/1250 [==============================] - 319s 255ms/step - loss: 0.3608 - accuracy: 0.8733 - val_loss: 1.3073 - val_accuracy: 0.6525\n",
            "Epoch 7/100\n",
            "1250/1250 [==============================] - ETA: 0s - loss: 0.2292 - accuracy: 0.9200\n",
            "Epoch 00007: val_accuracy did not improve from 0.67410\n",
            "1250/1250 [==============================] - 311s 249ms/step - loss: 0.2292 - accuracy: 0.9200 - val_loss: 1.5539 - val_accuracy: 0.6373\n",
            "Epoch 8/100\n",
            "1250/1250 [==============================] - ETA: 0s - loss: 0.1686 - accuracy: 0.9422\n",
            "Epoch 00008: val_accuracy did not improve from 0.67410\n",
            "1250/1250 [==============================] - 310s 248ms/step - loss: 0.1686 - accuracy: 0.9422 - val_loss: 1.9085 - val_accuracy: 0.6389\n",
            "Epoch 9/100\n",
            "1250/1250 [==============================] - ETA: 0s - loss: 0.1321 - accuracy: 0.9546\n",
            "Epoch 00009: val_accuracy did not improve from 0.67410\n",
            "1250/1250 [==============================] - 311s 249ms/step - loss: 0.1321 - accuracy: 0.9546 - val_loss: 2.1289 - val_accuracy: 0.6391\n",
            "Epoch 10/100\n",
            "1250/1250 [==============================] - ETA: 0s - loss: 0.1008 - accuracy: 0.9662\n",
            "Epoch 00010: val_accuracy did not improve from 0.67410\n",
            "1250/1250 [==============================] - 311s 249ms/step - loss: 0.1008 - accuracy: 0.9662 - val_loss: 2.5838 - val_accuracy: 0.6272\n",
            "Epoch 11/100\n",
            "1250/1250 [==============================] - ETA: 0s - loss: 0.1060 - accuracy: 0.9635\n",
            "Epoch 00011: val_accuracy did not improve from 0.67410\n",
            "1250/1250 [==============================] - 312s 250ms/step - loss: 0.1060 - accuracy: 0.9635 - val_loss: 2.3310 - val_accuracy: 0.6391\n",
            "Epoch 12/100\n",
            "1250/1250 [==============================] - ETA: 0s - loss: 0.0828 - accuracy: 0.9721\n",
            "Epoch 00012: val_accuracy did not improve from 0.67410\n",
            "1250/1250 [==============================] - 323s 258ms/step - loss: 0.0828 - accuracy: 0.9721 - val_loss: 2.7048 - val_accuracy: 0.6335\n",
            "Epoch 13/100\n",
            "1226/1250 [============================>.] - ETA: 5s - loss: 0.0877 - accuracy: 0.9711"
          ]
        }
      ]
    },
    {
      "cell_type": "markdown",
      "source": [
        "##Evaluation of the model on the testing set"
      ],
      "metadata": {
        "id": "8Zw-C_Os2Yke"
      }
    },
    {
      "cell_type": "code",
      "source": [
        "plt.plot(fitted_model.history['accuracy'], label = 'accuracy')\n",
        "plt.plot(fitted_model.history['val_accuracy'], label = 'val_accuracy')\n",
        "plt.xlabel('Epoch')\n",
        "plt.ylabel('Accuracy')\n",
        "plt.ylim([0, 1])\n",
        "plt.legend(loc = 'lower right')\n",
        "plt.savefig('Accuracy vs Epochs Trial 7 activation = softmax at the end')"
      ],
      "metadata": {
        "colab": {
          "base_uri": "https://localhost:8080/",
          "height": 283
        },
        "id": "QEKTcydkC1LJ",
        "outputId": "d3112d4f-da3c-4ac9-869b-aa0739fded01"
      },
      "execution_count": 105,
      "outputs": [
        {
          "output_type": "display_data",
          "data": {
            "text/plain": [
              "<Figure size 432x288 with 1 Axes>"
            ],
            "image/png": "[encoded data removed]"
          },
          "metadata": {
            "needs_background": "light"
          }
        }
      ]
    },
    {
      "cell_type": "markdown",
      "source": [
        "##Loading the best model"
      ],
      "metadata": {
        "id": "Vhmx-5fL2VBm"
      }
    },
    {
      "cell_type": "code",
      "source": [
        "best_model = load_model('best_cnn.h5')"
      ],
      "metadata": {
        "id": "hIYp3RqC2X2N"
      },
      "execution_count": 106,
      "outputs": []
    },
    {
      "cell_type": "markdown",
      "metadata": {
        "id": "jKgyC5K_4O0d"
      },
      "source": [
        "##Testing"
      ]
    },
    {
      "cell_type": "code",
      "execution_count": 107,
      "metadata": {
        "id": "gtyDF0MKUcM7",
        "colab": {
          "base_uri": "https://localhost:8080/"
        },
        "outputId": "fb795a91-ed17-4d8d-b860-7f2dd6af087e"
      },
      "outputs": [
        {
          "output_type": "stream",
          "name": "stdout",
          "text": [
            "Test Accuracy: 0.5740000009536743\n",
            "313/313 [==============================] - 3s 9ms/step\n",
            "\n",
            "The confusion matrix: \n",
            "[[465  11 104  12  33   6   6  55 227  45]\n",
            " [ 21 697   6  11   5   3  15   4  37 144]\n",
            " [ 73   3 361 104 171  65 150  34  32  11]\n",
            " [ 24   6 131 235  64 356 104  60  22  23]\n",
            " [ 35   3  92  43 543  35  90 138   6   4]\n",
            " [  9   4  69 161  50 604  28  68   8   5]\n",
            " [ 11   7  72  55  86  19 769   5   1   9]\n",
            " [ 22   3  30  24 107  63   5 739   3  12]\n",
            " [134  25  32  10   2  10   1   8 763  23]\n",
            " [ 58 193  18  24  22   6   9  96  29 564]]\n",
            "\n",
            "The classification report: \n",
            "              precision    recall  f1-score   support\n",
            "\n",
            "           0       0.55      0.48      0.51       964\n",
            "           1       0.73      0.74      0.74       943\n",
            "           2       0.39      0.36      0.38      1004\n",
            "           3       0.35      0.23      0.28      1025\n",
            "           4       0.50      0.55      0.52       989\n",
            "           5       0.52      0.60      0.56      1006\n",
            "           6       0.65      0.74      0.70      1034\n",
            "           7       0.61      0.73      0.67      1008\n",
            "           8       0.68      0.76      0.71      1008\n",
            "           9       0.67      0.55      0.61      1019\n",
            "\n",
            "    accuracy                           0.57     10000\n",
            "   macro avg       0.57      0.57      0.57     10000\n",
            "weighted avg       0.56      0.57      0.57     10000\n",
            "\n",
            "\n",
            "Test Accuracy: 0.574\n"
          ]
        }
      ],
      "source": [
        "test_loss, test_acc = best_model.evaluate(X_test,  y_test, verbose=3)\n",
        "print('Test Accuracy:', test_acc)\n",
        "y_predicted = best_model.predict(X_test, batch_size = BATCHES, verbose = 1)\n",
        "confused = confusion_matrix(np.argmax(y_test, axis = 1), np.argmax(y_predicted, axis = 1))\n",
        "print(\"\\nThe confusion matrix: \")\n",
        "print(confused)\n",
        "report = classification_report(np.argmax(y_test, axis = 1), np.argmax(y_predicted, axis = 1))\n",
        "print(\"\\nThe classification report: \")\n",
        "print(report)\n",
        "acc_score = accuracy_score(np.argmax(y_test, axis = 1), np.argmax(y_predicted, axis = 1))\n",
        "print(\"\\nTest Accuracy:\", acc_score)"
      ]
    }
  ]
}