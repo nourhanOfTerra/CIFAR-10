{
  "nbformat": 4,
  "nbformat_minor": 0,
  "metadata": {
    "colab": {
      "name": "CIFAR10_CNN.ipynb",
      "provenance": [],
      "collapsed_sections": [],
      "machine_shape": "hm",
      "authorship_tag": "ABX9TyMGnBKXGgp/mAkoir+QePoP",
      "include_colab_link": true
    },
    "kernelspec": {
      "name": "python3",
      "display_name": "Python 3"
    },
    "language_info": {
      "name": "python"
    }
  },
  "cells": [
    {
      "cell_type": "markdown",
      "metadata": {
        "id": "view-in-github",
        "colab_type": "text"
      },
      "source": [
        "<a href=\"https://colab.research.google.com/github/nourhanOfTerra/CIFAR-10/blob/main/CIFAR10_CNN.ipynb\" target=\"_parent\"><img src=\"https://colab.research.google.com/assets/colab-badge.svg\" alt=\"Open In Colab\"/></a>"
      ]
    },
    {
      "cell_type": "markdown",
      "source": [
        "#CIFAR-10 Classification Model: Convolutional Neural Networks\n",
        "\n",
        "Source 1: https://towardsdatascience.com/cifar-10-image-classification-in-tensorflow-5b501f7dc77c\n",
        "\n",
        "Source 2: https://www.tensorflow.org/tutorials/images/cnn\n",
        "\n",
        "Source 3: https://machinelearningmastery.com/how-to-stop-training-deep-neural-networks-at-the-right-time-using-early-stopping/\n",
        "\n",
        "Source 4: https://neptune.ai/blog/keras-metrics\n"
      ],
      "metadata": {
        "id": "sWBfVQMzXun7"
      }
    },
    {
      "cell_type": "markdown",
      "source": [
        "##Mounting Google Drive"
      ],
      "metadata": {
        "id": "1L01YKsWXt2Z"
      }
    },
    {
      "cell_type": "code",
      "execution_count": 1,
      "metadata": {
        "colab": {
          "base_uri": "https://localhost:8080/"
        },
        "id": "3YXvZq_OXaai",
        "outputId": "ba148e1b-7406-4784-f884-7903f1b8a7f6"
      },
      "outputs": [
        {
          "output_type": "stream",
          "name": "stdout",
          "text": [
            "Mounted at /content/drive\n"
          ]
        }
      ],
      "source": [
        "from google.colab import drive\n",
        "drive.mount('/content/drive')\n",
        "import os\n",
        "os.chdir('/content/drive/MyDrive/CIFAR-10')"
      ]
    },
    {
      "cell_type": "markdown",
      "metadata": {
        "id": "SuOC_n6FrYRz"
      },
      "source": [
        "##Importing the necessary libraries"
      ]
    },
    {
      "cell_type": "code",
      "source": [
        "!pip3 uninstall tensorflow\n",
        "!pip3 install tensorflow==2.7.0\n",
        "!pip3 install h5py"
      ],
      "metadata": {
        "colab": {
          "base_uri": "https://localhost:8080/"
        },
        "id": "np5muKtUGTIy",
        "outputId": "ab80e256-8421-4502-f564-327e77835063"
      },
      "execution_count": 2,
      "outputs": [
        {
          "output_type": "stream",
          "name": "stdout",
          "text": [
            "Found existing installation: tensorflow 2.8.0\n",
            "Uninstalling tensorflow-2.8.0:\n",
            "  Would remove:\n",
            "    /usr/local/bin/estimator_ckpt_converter\n",
            "    /usr/local/bin/import_pb_to_tensorboard\n",
            "    /usr/local/bin/saved_model_cli\n",
            "    /usr/local/bin/tensorboard\n",
            "    /usr/local/bin/tf_upgrade_v2\n",
            "    /usr/local/bin/tflite_convert\n",
            "    /usr/local/bin/toco\n",
            "    /usr/local/bin/toco_from_protos\n",
            "    /usr/local/lib/python3.7/dist-packages/tensorflow-2.8.0.dist-info/*\n",
            "    /usr/local/lib/python3.7/dist-packages/tensorflow/*\n",
            "Proceed (y/n)? y\n",
            "  Successfully uninstalled tensorflow-2.8.0\n",
            "Collecting tensorflow==2.7.0\n",
            "  Downloading tensorflow-2.7.0-cp37-cp37m-manylinux2010_x86_64.whl (489.6 MB)\n",
            "\u001b[K     |████████████████████████████████| 489.6 MB 21 kB/s \n",
            "\u001b[?25hRequirement already satisfied: termcolor>=1.1.0 in /usr/local/lib/python3.7/dist-packages (from tensorflow==2.7.0) (1.1.0)\n",
            "Requirement already satisfied: grpcio<2.0,>=1.24.3 in /usr/local/lib/python3.7/dist-packages (from tensorflow==2.7.0) (1.44.0)\n",
            "Requirement already satisfied: google-pasta>=0.1.1 in /usr/local/lib/python3.7/dist-packages (from tensorflow==2.7.0) (0.2.0)\n",
            "Requirement already satisfied: flatbuffers<3.0,>=1.12 in /usr/local/lib/python3.7/dist-packages (from tensorflow==2.7.0) (2.0)\n",
            "Collecting tensorflow-estimator<2.8,~=2.7.0rc0\n",
            "  Downloading tensorflow_estimator-2.7.0-py2.py3-none-any.whl (463 kB)\n",
            "\u001b[K     |████████████████████████████████| 463 kB 62.1 MB/s \n",
            "\u001b[?25hRequirement already satisfied: numpy>=1.14.5 in /usr/local/lib/python3.7/dist-packages (from tensorflow==2.7.0) (1.21.6)\n",
            "Requirement already satisfied: six>=1.12.0 in /usr/local/lib/python3.7/dist-packages (from tensorflow==2.7.0) (1.15.0)\n",
            "Requirement already satisfied: tensorboard~=2.6 in /usr/local/lib/python3.7/dist-packages (from tensorflow==2.7.0) (2.8.0)\n",
            "Requirement already satisfied: typing-extensions>=3.6.6 in /usr/local/lib/python3.7/dist-packages (from tensorflow==2.7.0) (4.2.0)\n",
            "Requirement already satisfied: wrapt>=1.11.0 in /usr/local/lib/python3.7/dist-packages (from tensorflow==2.7.0) (1.14.0)\n",
            "Requirement already satisfied: absl-py>=0.4.0 in /usr/local/lib/python3.7/dist-packages (from tensorflow==2.7.0) (1.0.0)\n",
            "Requirement already satisfied: keras-preprocessing>=1.1.1 in /usr/local/lib/python3.7/dist-packages (from tensorflow==2.7.0) (1.1.2)\n",
            "Requirement already satisfied: tensorflow-io-gcs-filesystem>=0.21.0 in /usr/local/lib/python3.7/dist-packages (from tensorflow==2.7.0) (0.25.0)\n",
            "Requirement already satisfied: wheel<1.0,>=0.32.0 in /usr/local/lib/python3.7/dist-packages (from tensorflow==2.7.0) (0.37.1)\n",
            "Collecting keras<2.8,>=2.7.0rc0\n",
            "  Downloading keras-2.7.0-py2.py3-none-any.whl (1.3 MB)\n",
            "\u001b[K     |████████████████████████████████| 1.3 MB 42.7 MB/s \n",
            "\u001b[?25hRequirement already satisfied: h5py>=2.9.0 in /usr/local/lib/python3.7/dist-packages (from tensorflow==2.7.0) (3.1.0)\n",
            "Requirement already satisfied: protobuf>=3.9.2 in /usr/local/lib/python3.7/dist-packages (from tensorflow==2.7.0) (3.17.3)\n",
            "Requirement already satisfied: opt-einsum>=2.3.2 in /usr/local/lib/python3.7/dist-packages (from tensorflow==2.7.0) (3.3.0)\n",
            "Collecting gast<0.5.0,>=0.2.1\n",
            "  Downloading gast-0.4.0-py3-none-any.whl (9.8 kB)\n",
            "Requirement already satisfied: libclang>=9.0.1 in /usr/local/lib/python3.7/dist-packages (from tensorflow==2.7.0) (14.0.1)\n",
            "Requirement already satisfied: astunparse>=1.6.0 in /usr/local/lib/python3.7/dist-packages (from tensorflow==2.7.0) (1.6.3)\n",
            "Requirement already satisfied: cached-property in /usr/local/lib/python3.7/dist-packages (from h5py>=2.9.0->tensorflow==2.7.0) (1.5.2)\n",
            "Requirement already satisfied: google-auth<3,>=1.6.3 in /usr/local/lib/python3.7/dist-packages (from tensorboard~=2.6->tensorflow==2.7.0) (1.35.0)\n",
            "Requirement already satisfied: requests<3,>=2.21.0 in /usr/local/lib/python3.7/dist-packages (from tensorboard~=2.6->tensorflow==2.7.0) (2.23.0)\n",
            "Requirement already satisfied: tensorboard-data-server<0.7.0,>=0.6.0 in /usr/local/lib/python3.7/dist-packages (from tensorboard~=2.6->tensorflow==2.7.0) (0.6.1)\n",
            "Requirement already satisfied: google-auth-oauthlib<0.5,>=0.4.1 in /usr/local/lib/python3.7/dist-packages (from tensorboard~=2.6->tensorflow==2.7.0) (0.4.6)\n",
            "Requirement already satisfied: setuptools>=41.0.0 in /usr/local/lib/python3.7/dist-packages (from tensorboard~=2.6->tensorflow==2.7.0) (57.4.0)\n",
            "Requirement already satisfied: tensorboard-plugin-wit>=1.6.0 in /usr/local/lib/python3.7/dist-packages (from tensorboard~=2.6->tensorflow==2.7.0) (1.8.1)\n",
            "Requirement already satisfied: markdown>=2.6.8 in /usr/local/lib/python3.7/dist-packages (from tensorboard~=2.6->tensorflow==2.7.0) (3.3.6)\n",
            "Requirement already satisfied: werkzeug>=0.11.15 in /usr/local/lib/python3.7/dist-packages (from tensorboard~=2.6->tensorflow==2.7.0) (1.0.1)\n",
            "Requirement already satisfied: rsa<5,>=3.1.4 in /usr/local/lib/python3.7/dist-packages (from google-auth<3,>=1.6.3->tensorboard~=2.6->tensorflow==2.7.0) (4.8)\n",
            "Requirement already satisfied: cachetools<5.0,>=2.0.0 in /usr/local/lib/python3.7/dist-packages (from google-auth<3,>=1.6.3->tensorboard~=2.6->tensorflow==2.7.0) (4.2.4)\n",
            "Requirement already satisfied: pyasn1-modules>=0.2.1 in /usr/local/lib/python3.7/dist-packages (from google-auth<3,>=1.6.3->tensorboard~=2.6->tensorflow==2.7.0) (0.2.8)\n",
            "Requirement already satisfied: requests-oauthlib>=0.7.0 in /usr/local/lib/python3.7/dist-packages (from google-auth-oauthlib<0.5,>=0.4.1->tensorboard~=2.6->tensorflow==2.7.0) (1.3.1)\n",
            "Requirement already satisfied: importlib-metadata>=4.4 in /usr/local/lib/python3.7/dist-packages (from markdown>=2.6.8->tensorboard~=2.6->tensorflow==2.7.0) (4.11.3)\n",
            "Requirement already satisfied: zipp>=0.5 in /usr/local/lib/python3.7/dist-packages (from importlib-metadata>=4.4->markdown>=2.6.8->tensorboard~=2.6->tensorflow==2.7.0) (3.8.0)\n",
            "Requirement already satisfied: pyasn1<0.5.0,>=0.4.6 in /usr/local/lib/python3.7/dist-packages (from pyasn1-modules>=0.2.1->google-auth<3,>=1.6.3->tensorboard~=2.6->tensorflow==2.7.0) (0.4.8)\n",
            "Requirement already satisfied: idna<3,>=2.5 in /usr/local/lib/python3.7/dist-packages (from requests<3,>=2.21.0->tensorboard~=2.6->tensorflow==2.7.0) (2.10)\n",
            "Requirement already satisfied: urllib3!=1.25.0,!=1.25.1,<1.26,>=1.21.1 in /usr/local/lib/python3.7/dist-packages (from requests<3,>=2.21.0->tensorboard~=2.6->tensorflow==2.7.0) (1.24.3)\n",
            "Requirement already satisfied: certifi>=2017.4.17 in /usr/local/lib/python3.7/dist-packages (from requests<3,>=2.21.0->tensorboard~=2.6->tensorflow==2.7.0) (2021.10.8)\n",
            "Requirement already satisfied: chardet<4,>=3.0.2 in /usr/local/lib/python3.7/dist-packages (from requests<3,>=2.21.0->tensorboard~=2.6->tensorflow==2.7.0) (3.0.4)\n",
            "Requirement already satisfied: oauthlib>=3.0.0 in /usr/local/lib/python3.7/dist-packages (from requests-oauthlib>=0.7.0->google-auth-oauthlib<0.5,>=0.4.1->tensorboard~=2.6->tensorflow==2.7.0) (3.2.0)\n",
            "Installing collected packages: tensorflow-estimator, keras, gast, tensorflow\n",
            "  Attempting uninstall: tensorflow-estimator\n",
            "    Found existing installation: tensorflow-estimator 2.8.0\n",
            "    Uninstalling tensorflow-estimator-2.8.0:\n",
            "      Successfully uninstalled tensorflow-estimator-2.8.0\n",
            "  Attempting uninstall: keras\n",
            "    Found existing installation: keras 2.8.0\n",
            "    Uninstalling keras-2.8.0:\n",
            "      Successfully uninstalled keras-2.8.0\n",
            "  Attempting uninstall: gast\n",
            "    Found existing installation: gast 0.5.3\n",
            "    Uninstalling gast-0.5.3:\n",
            "      Successfully uninstalled gast-0.5.3\n",
            "Successfully installed gast-0.4.0 keras-2.7.0 tensorflow-2.7.0 tensorflow-estimator-2.7.0\n",
            "Requirement already satisfied: h5py in /usr/local/lib/python3.7/dist-packages (3.1.0)\n",
            "Requirement already satisfied: cached-property in /usr/local/lib/python3.7/dist-packages (from h5py) (1.5.2)\n",
            "Requirement already satisfied: numpy>=1.14.5 in /usr/local/lib/python3.7/dist-packages (from h5py) (1.21.6)\n"
          ]
        }
      ]
    },
    {
      "cell_type": "markdown",
      "metadata": {
        "id": "TYqv80wtUTp_"
      },
      "source": [
        "###General Libraries"
      ]
    },
    {
      "cell_type": "code",
      "execution_count": 3,
      "metadata": {
        "id": "OF7ZOOF6rgw9"
      },
      "outputs": [],
      "source": [
        "import numpy as np\n",
        "import matplotlib.pyplot as plt\n",
        "import pandas as pd"
      ]
    },
    {
      "cell_type": "markdown",
      "metadata": {
        "id": "o0uGS4YUUPMD"
      },
      "source": [
        "###Model Specific Libraris"
      ]
    },
    {
      "cell_type": "code",
      "execution_count": 28,
      "metadata": {
        "id": "Oqd-bOlbUOqI"
      },
      "outputs": [],
      "source": [
        "import tensorflow as tf\n",
        "import math\n",
        "import random\n",
        "from sklearn import preprocessing\n",
        "from sklearn import svm\n",
        "from sklearn.model_selection import train_test_split\n",
        "from sklearn.preprocessing import StandardScaler\n",
        "from sklearn.preprocessing import OneHotEncoder\n",
        "from time import time\n",
        "from tensorflow.keras import datasets, layers, models\n",
        "from tensorflow.keras.callbacks import EarlyStopping, ModelCheckpoint\n",
        "from tensorflow.keras.metrics import Precision, Recall, AUC\n",
        "from tensorflow.keras.models import load_model"
      ]
    },
    {
      "cell_type": "markdown",
      "metadata": {
        "id": "eQPPJG_epm2Y"
      },
      "source": [
        "##Importing the data from csv files to variables\n",
        "Note that since we are applying CNNs here, no need for feature extraction. Therefore, we should use the original features as they are."
      ]
    },
    {
      "cell_type": "code",
      "execution_count": 5,
      "metadata": {
        "id": "-X70qDJpprrP"
      },
      "outputs": [],
      "source": [
        "df_features = pd.read_csv('features.csv')\n",
        "df_labels = pd.read_csv('labels.csv')"
      ]
    },
    {
      "cell_type": "markdown",
      "source": [
        "Now converting to numpy arrays as they are easier to deal with in the upcoming functions of the scikit-learn library."
      ],
      "metadata": {
        "id": "oaj2KTTV7LsN"
      }
    },
    {
      "cell_type": "code",
      "source": [
        "features = df_features.to_numpy()\n",
        "labels = df_labels.to_numpy()"
      ],
      "metadata": {
        "id": "pK2-6Usg5OUs"
      },
      "execution_count": 6,
      "outputs": []
    },
    {
      "cell_type": "markdown",
      "source": [
        "##Normalizing the features\n",
        "This would be useful for the activation functions."
      ],
      "metadata": {
        "id": "e1T4Gb1Abfyp"
      }
    },
    {
      "cell_type": "code",
      "source": [
        "scaler = preprocessing.MinMaxScaler()\n",
        "normalized_features = scaler.fit_transform(features)"
      ],
      "metadata": {
        "id": "KT6SJbWGbfyq"
      },
      "execution_count": 7,
      "outputs": []
    },
    {
      "cell_type": "markdown",
      "source": [
        "##Encoding the labels using one-hot encoding\n",
        "The reason for that is that there is no real relation between the integer values in the original labels vector and the labels. This might be misleading for the model. One hot encoding might be better in this case."
      ],
      "metadata": {
        "id": "mhoVGiAecf3s"
      }
    },
    {
      "cell_type": "code",
      "source": [
        "encoder = OneHotEncoder(sparse = False)\n",
        "encoded_labels = encoder.fit_transform(labels)"
      ],
      "metadata": {
        "id": "6doyzeBpcnfS"
      },
      "execution_count": 8,
      "outputs": []
    },
    {
      "cell_type": "markdown",
      "source": [
        "##Reshaping the feature matrix for Tensorflow\n"
      ],
      "metadata": {
        "id": "4Cqwe1GNUX7g"
      }
    },
    {
      "cell_type": "code",
      "source": [
        "reshaped_features = np.reshape(normalized_features, (60000, 3, 32, 32))\n",
        "transposed_features = reshaped_features.transpose(0, 2, 3, 1)"
      ],
      "metadata": {
        "id": "olQweoOSUda5"
      },
      "execution_count": 9,
      "outputs": []
    },
    {
      "cell_type": "markdown",
      "source": [
        "##Ensuring results reproducibility"
      ],
      "metadata": {
        "id": "Dqti_ojlRavw"
      }
    },
    {
      "cell_type": "code",
      "source": [
        "#os.environ['TF_DETERMINISTIC_OPS'] = '1'\n",
        "#SEED = 20\n",
        "#os.environ['PYTHONHASHSEED'] = str(SEED)\n",
        "#random.seed(SEED)\n",
        "#np.random.seed(SEED)\n",
        "#tf.random.set_seed(SEED)"
      ],
      "metadata": {
        "id": "KzGgBJ3sRl18"
      },
      "execution_count": 21,
      "outputs": []
    },
    {
      "cell_type": "markdown",
      "source": [
        "##Setting the parameters"
      ],
      "metadata": {
        "id": "Mudg9s8YQHtt"
      }
    },
    {
      "cell_type": "code",
      "source": [
        "SIZE = 32                                                                       # Don't Change\n",
        "BATCHES = 32\n",
        "EPOCHS = 100\n",
        "LEARNING_RATE = 0.001\n",
        "ACTIVATION = 'relu'\n",
        "FILTER = (3, 3)                                                                 # Don't Change\n",
        "POOLING = (2, 2)                                                                # Don't Change\n",
        "OPTIMIZER = 'adam'\n",
        "LOSS = tf.keras.losses.CategoricalCrossentropy(from_logits = True)              \n",
        "METRICS = ['accuracy']\n",
        "TEST = 10000/60000                                                              # Don't Change\n",
        "VALIDATION = 10000/50000                                                        # Don't Change\n",
        "INPUT_SHAPE = (32, 32, 3)                                                       # Don't Change\n",
        "OUTPUTS = 10                                                                    # Don't Change"
      ],
      "metadata": {
        "id": "2h5Yl73NNGHy"
      },
      "execution_count": 25,
      "outputs": []
    },
    {
      "cell_type": "markdown",
      "source": [
        "##Dividing the dataset into training, validation and testing sets"
      ],
      "metadata": {
        "id": "CONf33Njjv0w"
      }
    },
    {
      "cell_type": "code",
      "source": [
        "X_train, X_test, y_train, y_test = train_test_split(transposed_features, encoded_labels, test_size = TEST)\n",
        "X_train, X_val, y_train, y_val = train_test_split(X_train, y_train, test_size = VALIDATION)"
      ],
      "metadata": {
        "id": "04MPM0URjwEQ"
      },
      "execution_count": 11,
      "outputs": []
    },
    {
      "cell_type": "markdown",
      "source": [
        "##Building the model"
      ],
      "metadata": {
        "id": "-iK3EebA_P4I"
      }
    },
    {
      "cell_type": "markdown",
      "source": [
        "###Convolutional and MaxPooling layers"
      ],
      "metadata": {
        "id": "pnjXCbYYCsyn"
      }
    },
    {
      "cell_type": "code",
      "source": [
        "model = models.Sequential()\n",
        "model.add(layers.Conv2D(SIZE, FILTER, activation = ACTIVATION, input_shape = INPUT_SHAPE))             # First convolution layer\n",
        "model.add(layers.MaxPooling2D(POOLING))                                                                # First MaxPooling\n",
        "model.add(layers.Conv2D(2*SIZE, FILTER, activation = ACTIVATION))                                      # Second convolution layer\n",
        "model.add(layers.MaxPooling2D(POOLING))                                                                # Second MaxPooling\n",
        "model.add(layers.Conv2D(2*SIZE, FILTER, activation = ACTIVATION))                                      # Third convolution layer\n",
        "model.summary()"
      ],
      "metadata": {
        "colab": {
          "base_uri": "https://localhost:8080/"
        },
        "id": "lbODduIv_vHP",
        "outputId": "7513f77e-b878-45c0-88ad-d7e55b0b391c"
      },
      "execution_count": 12,
      "outputs": [
        {
          "output_type": "stream",
          "name": "stdout",
          "text": [
            "Model: \"sequential\"\n",
            "_________________________________________________________________\n",
            " Layer (type)                Output Shape              Param #   \n",
            "=================================================================\n",
            " conv2d (Conv2D)             (None, 30, 30, 32)        896       \n",
            "                                                                 \n",
            " max_pooling2d (MaxPooling2D  (None, 15, 15, 32)       0         \n",
            " )                                                               \n",
            "                                                                 \n",
            " conv2d_1 (Conv2D)           (None, 13, 13, 64)        18496     \n",
            "                                                                 \n",
            " max_pooling2d_1 (MaxPooling  (None, 6, 6, 64)         0         \n",
            " 2D)                                                             \n",
            "                                                                 \n",
            " conv2d_2 (Conv2D)           (None, 4, 4, 64)          36928     \n",
            "                                                                 \n",
            "=================================================================\n",
            "Total params: 56,320\n",
            "Trainable params: 56,320\n",
            "Non-trainable params: 0\n",
            "_________________________________________________________________\n"
          ]
        }
      ]
    },
    {
      "cell_type": "markdown",
      "source": [
        "###Dense layers"
      ],
      "metadata": {
        "id": "asJ82Sp1D36j"
      }
    },
    {
      "cell_type": "code",
      "source": [
        "model.add(layers.Flatten())                                 # Flattening because input to this layer is 3D Tensor\n",
        "model.add(layers.Dense(2*SIZE, activation = ACTIVATION))    # First dense layer\n",
        "model.add(layers.Dense(OUTPUTS))                            # Output layer (10 outputs for 10 classes)\n",
        "model.summary()"
      ],
      "metadata": {
        "colab": {
          "base_uri": "https://localhost:8080/"
        },
        "id": "k7lIvD6cD67t",
        "outputId": "9887511b-4199-4439-91ec-3f4e32b24251"
      },
      "execution_count": 13,
      "outputs": [
        {
          "output_type": "stream",
          "name": "stdout",
          "text": [
            "Model: \"sequential\"\n",
            "_________________________________________________________________\n",
            " Layer (type)                Output Shape              Param #   \n",
            "=================================================================\n",
            " conv2d (Conv2D)             (None, 30, 30, 32)        896       \n",
            "                                                                 \n",
            " max_pooling2d (MaxPooling2D  (None, 15, 15, 32)       0         \n",
            " )                                                               \n",
            "                                                                 \n",
            " conv2d_1 (Conv2D)           (None, 13, 13, 64)        18496     \n",
            "                                                                 \n",
            " max_pooling2d_1 (MaxPooling  (None, 6, 6, 64)         0         \n",
            " 2D)                                                             \n",
            "                                                                 \n",
            " conv2d_2 (Conv2D)           (None, 4, 4, 64)          36928     \n",
            "                                                                 \n",
            " flatten (Flatten)           (None, 1024)              0         \n",
            "                                                                 \n",
            " dense (Dense)               (None, 64)                65600     \n",
            "                                                                 \n",
            " dense_1 (Dense)             (None, 10)                650       \n",
            "                                                                 \n",
            "=================================================================\n",
            "Total params: 122,570\n",
            "Trainable params: 122,570\n",
            "Non-trainable params: 0\n",
            "_________________________________________________________________\n"
          ]
        }
      ]
    },
    {
      "cell_type": "markdown",
      "source": [
        "##Early Stopping and Model Checkpoint callback functions"
      ],
      "metadata": {
        "id": "1nwq0wGRqxZL"
      }
    },
    {
      "cell_type": "code",
      "source": [
        "early_stopping = EarlyStopping(monitor = 'val_accuracy', mode = 'max', patience = 10, verbose = 1, min_delta = 0.1)\n",
        "check_point = ModelCheckpoint('best_cnn.h5', monitor = 'val_accuracy', mode = 'max', save_best_only = True, verbose = 1)\n",
        "CALLBACKS = [early_stopping, check_point]"
      ],
      "metadata": {
        "id": "i8LWR_xOqaPt"
      },
      "execution_count": 26,
      "outputs": []
    },
    {
      "cell_type": "markdown",
      "source": [
        "##Training"
      ],
      "metadata": {
        "id": "mV_KERjhFpl4"
      }
    },
    {
      "cell_type": "code",
      "source": [
        "model.compile(optimizer = OPTIMIZER, loss = LOSS, metrics = METRICS)\n",
        "fitted_model = model.fit(X_train, y_train, batch_size = BATCHES, epochs = EPOCHS, validation_data = (X_val, y_val), callbacks = CALLBACKS)"
      ],
      "metadata": {
        "colab": {
          "base_uri": "https://localhost:8080/"
        },
        "id": "2AYuRIVeFtyG",
        "outputId": "46dbf769-58ba-496a-f25f-3606c0a1ad21"
      },
      "execution_count": 27,
      "outputs": [
        {
          "output_type": "stream",
          "name": "stdout",
          "text": [
            "Epoch 1/100\n",
            "1249/1250 [============================>.] - ETA: 0s - loss: 1.5637 - accuracy: 0.4261\n",
            "Epoch 00001: val_accuracy improved from -inf to 0.52250, saving model to best_cnn.h5\n",
            "1250/1250 [==============================] - 37s 30ms/step - loss: 1.5633 - accuracy: 0.4262 - val_loss: 1.3050 - val_accuracy: 0.5225\n",
            "Epoch 2/100\n",
            "1250/1250 [==============================] - ETA: 0s - loss: 1.1882 - accuracy: 0.5756\n",
            "Epoch 00002: val_accuracy improved from 0.52250 to 0.60440, saving model to best_cnn.h5\n",
            "1250/1250 [==============================] - 41s 33ms/step - loss: 1.1882 - accuracy: 0.5756 - val_loss: 1.1172 - val_accuracy: 0.6044\n",
            "Epoch 3/100\n",
            "1249/1250 [============================>.] - ETA: 0s - loss: 1.0359 - accuracy: 0.6361\n",
            "Epoch 00003: val_accuracy improved from 0.60440 to 0.62970, saving model to best_cnn.h5\n",
            "1250/1250 [==============================] - 37s 30ms/step - loss: 1.0362 - accuracy: 0.6360 - val_loss: 1.0410 - val_accuracy: 0.6297\n",
            "Epoch 4/100\n",
            "1249/1250 [============================>.] - ETA: 0s - loss: 0.9452 - accuracy: 0.6682\n",
            "Epoch 00004: val_accuracy improved from 0.62970 to 0.66740, saving model to best_cnn.h5\n",
            "1250/1250 [==============================] - 37s 30ms/step - loss: 0.9452 - accuracy: 0.6682 - val_loss: 0.9560 - val_accuracy: 0.6674\n",
            "Epoch 5/100\n",
            "1250/1250 [==============================] - ETA: 0s - loss: 0.8711 - accuracy: 0.6967\n",
            "Epoch 00005: val_accuracy improved from 0.66740 to 0.67220, saving model to best_cnn.h5\n",
            "1250/1250 [==============================] - 36s 29ms/step - loss: 0.8711 - accuracy: 0.6967 - val_loss: 0.9412 - val_accuracy: 0.6722\n",
            "Epoch 6/100\n",
            "1250/1250 [==============================] - ETA: 0s - loss: 0.8066 - accuracy: 0.7174\n",
            "Epoch 00006: val_accuracy improved from 0.67220 to 0.67720, saving model to best_cnn.h5\n",
            "1250/1250 [==============================] - 37s 29ms/step - loss: 0.8066 - accuracy: 0.7174 - val_loss: 0.9335 - val_accuracy: 0.6772\n",
            "Epoch 7/100\n",
            "1250/1250 [==============================] - ETA: 0s - loss: 0.7528 - accuracy: 0.7396\n",
            "Epoch 00007: val_accuracy improved from 0.67720 to 0.67970, saving model to best_cnn.h5\n",
            "1250/1250 [==============================] - 37s 29ms/step - loss: 0.7528 - accuracy: 0.7396 - val_loss: 0.9155 - val_accuracy: 0.6797\n",
            "Epoch 8/100\n",
            "1250/1250 [==============================] - ETA: 0s - loss: 0.7069 - accuracy: 0.7527\n",
            "Epoch 00008: val_accuracy improved from 0.67970 to 0.69770, saving model to best_cnn.h5\n",
            "1250/1250 [==============================] - 37s 29ms/step - loss: 0.7069 - accuracy: 0.7527 - val_loss: 0.8846 - val_accuracy: 0.6977\n",
            "Epoch 9/100\n",
            "1249/1250 [============================>.] - ETA: 0s - loss: 0.6648 - accuracy: 0.7662\n",
            "Epoch 00009: val_accuracy improved from 0.69770 to 0.69870, saving model to best_cnn.h5\n",
            "1250/1250 [==============================] - 37s 29ms/step - loss: 0.6649 - accuracy: 0.7662 - val_loss: 0.8972 - val_accuracy: 0.6987\n",
            "Epoch 10/100\n",
            "1250/1250 [==============================] - ETA: 0s - loss: 0.6260 - accuracy: 0.7826\n",
            "Epoch 00010: val_accuracy improved from 0.69870 to 0.70300, saving model to best_cnn.h5\n",
            "1250/1250 [==============================] - 36s 29ms/step - loss: 0.6260 - accuracy: 0.7826 - val_loss: 0.8711 - val_accuracy: 0.7030\n",
            "Epoch 11/100\n",
            "1250/1250 [==============================] - ETA: 0s - loss: 0.5875 - accuracy: 0.7952\n",
            "Epoch 00011: val_accuracy improved from 0.70300 to 0.70370, saving model to best_cnn.h5\n",
            "1250/1250 [==============================] - 37s 29ms/step - loss: 0.5875 - accuracy: 0.7952 - val_loss: 0.9083 - val_accuracy: 0.7037\n",
            "Epoch 12/100\n",
            "1250/1250 [==============================] - ETA: 0s - loss: 0.5544 - accuracy: 0.8071\n",
            "Epoch 00012: val_accuracy did not improve from 0.70370\n",
            "1250/1250 [==============================] - 36s 29ms/step - loss: 0.5544 - accuracy: 0.8071 - val_loss: 0.9074 - val_accuracy: 0.7001\n",
            "Epoch 13/100\n",
            "1249/1250 [============================>.] - ETA: 0s - loss: 0.5234 - accuracy: 0.8166\n",
            "Epoch 00013: val_accuracy did not improve from 0.70370\n",
            "1250/1250 [==============================] - 36s 29ms/step - loss: 0.5233 - accuracy: 0.8166 - val_loss: 0.9627 - val_accuracy: 0.6885\n",
            "Epoch 00013: early stopping\n"
          ]
        }
      ]
    },
    {
      "cell_type": "markdown",
      "source": [
        "##Evaluation of the model on the testing set"
      ],
      "metadata": {
        "id": "8Zw-C_Os2Yke"
      }
    },
    {
      "cell_type": "code",
      "source": [
        "plt.plot(fitted_model.history['accuracy'], label = 'accuracy')\n",
        "plt.plot(fitted_model.history['val_accuracy'], label = 'val_accuracy')\n",
        "plt.xlabel('Epoch')\n",
        "plt.ylabel('Accuracy')\n",
        "plt.ylim([0.5, 1])\n",
        "plt.legend(loc = 'lower right')\n",
        "plt.savefig('Accuracy vs Epochs Trial 2')"
      ],
      "metadata": {
        "colab": {
          "base_uri": "https://localhost:8080/",
          "height": 283
        },
        "id": "QEKTcydkC1LJ",
        "outputId": "8e0e488d-3de2-4d27-b47f-d40e5ef9d3ce"
      },
      "execution_count": 31,
      "outputs": [
        {
          "output_type": "display_data",
          "data": {
            "text/plain": [
              "<Figure size 432x288 with 1 Axes>"
            ],
            "image/png": "[encoded data removed]"
          },
          "metadata": {
            "needs_background": "light"
          }
        }
      ]
    },
    {
      "cell_type": "markdown",
      "source": [
        "##Loading the best model"
      ],
      "metadata": {
        "id": "Vhmx-5fL2VBm"
      }
    },
    {
      "cell_type": "code",
      "source": [
        "best_model = load_model('best_cnn.h5')"
      ],
      "metadata": {
        "id": "hIYp3RqC2X2N"
      },
      "execution_count": 32,
      "outputs": []
    },
    {
      "cell_type": "markdown",
      "metadata": {
        "id": "jKgyC5K_4O0d"
      },
      "source": [
        "##Testing"
      ]
    },
    {
      "cell_type": "code",
      "execution_count": 33,
      "metadata": {
        "id": "gtyDF0MKUcM7",
        "colab": {
          "base_uri": "https://localhost:8080/"
        },
        "outputId": "bb7a496e-57fd-40ff-f6f1-c6cbff8e8b37"
      },
      "outputs": [
        {
          "output_type": "stream",
          "name": "stdout",
          "text": [
            "313/313 - 3s - loss: 0.8842 - accuracy: 0.7070 - 3s/epoch - 9ms/step\n",
            "0.7070000171661377\n"
          ]
        }
      ],
      "source": [
        "test_loss, test_acc = best_model.evaluate(X_test,  y_test, verbose=2)\n",
        "print(test_acc)"
      ]
    }
  ]
}