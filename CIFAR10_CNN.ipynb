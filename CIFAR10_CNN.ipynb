{
  "cells": [
    {
      "cell_type": "markdown",
      "metadata": {
        "id": "view-in-github",
        "colab_type": "text"
      },
      "source": [
        "<a href=\"https://colab.research.google.com/github/nourhanOfTerra/CIFAR-10/blob/main/CIFAR10_CNN.ipynb\" target=\"_parent\"><img src=\"https://colab.research.google.com/assets/colab-badge.svg\" alt=\"Open In Colab\"/></a>"
      ]
    },
    {
      "cell_type": "markdown",
      "metadata": {
        "id": "sWBfVQMzXun7"
      },
      "source": [
        "#CIFAR-10 Classification Model: Convolutional Neural Networks"
      ]
    },
    {
      "cell_type": "markdown",
      "metadata": {
        "id": "1L01YKsWXt2Z"
      },
      "source": [
        "##Mounting Google Drive\n",
        "Run the following cell to mount your Google Drive after uploading the project folder to your drive."
      ]
    },
    {
      "cell_type": "code",
      "execution_count": 2,
      "metadata": {
        "colab": {
          "base_uri": "https://localhost:8080/"
        },
        "id": "3YXvZq_OXaai",
        "outputId": "ff9bd621-8e4a-46ff-9844-1b646a3d9f15"
      },
      "outputs": [
        {
          "output_type": "stream",
          "name": "stdout",
          "text": [
            "Mounted at /content/drive\n"
          ]
        }
      ],
      "source": [
        "from google.colab import drive\n",
        "drive.mount('/content/drive')\n",
        "import os\n",
        "os.chdir('/content/drive/MyDrive/CIFAR-10')"
      ]
    },
    {
      "cell_type": "markdown",
      "metadata": {
        "id": "SuOC_n6FrYRz"
      },
      "source": [
        "##Importing the necessary libraries\n",
        "* Installing tensorflow version 2.7.0 to replace the originally installed tensorflow 2.8.0 for keras to be imported. \n",
        "* h5py is used for saving the model with the best validation results to the project folder to be able to access it again."
      ]
    },
    {
      "cell_type": "code",
      "execution_count": 3,
      "metadata": {
        "colab": {
          "base_uri": "https://localhost:8080/"
        },
        "id": "np5muKtUGTIy",
        "outputId": "50ea8ded-05df-4d26-90ef-10e2a83be44e"
      },
      "outputs": [
        {
          "output_type": "stream",
          "name": "stdout",
          "text": [
            "Collecting tensorflow==2.7.0\n",
            "  Downloading tensorflow-2.7.0-cp37-cp37m-manylinux2010_x86_64.whl (489.6 MB)\n",
            "\u001b[K     |████████████████████████████████| 489.6 MB 24 kB/s \n",
            "\u001b[?25hRequirement already satisfied: astunparse>=1.6.0 in /usr/local/lib/python3.7/dist-packages (from tensorflow==2.7.0) (1.6.3)\n",
            "Requirement already satisfied: termcolor>=1.1.0 in /usr/local/lib/python3.7/dist-packages (from tensorflow==2.7.0) (1.1.0)\n",
            "Collecting tensorflow-estimator<2.8,~=2.7.0rc0\n",
            "  Downloading tensorflow_estimator-2.7.0-py2.py3-none-any.whl (463 kB)\n",
            "\u001b[K     |████████████████████████████████| 463 kB 64.3 MB/s \n",
            "\u001b[?25hRequirement already satisfied: google-pasta>=0.1.1 in /usr/local/lib/python3.7/dist-packages (from tensorflow==2.7.0) (0.2.0)\n",
            "Requirement already satisfied: h5py>=2.9.0 in /usr/local/lib/python3.7/dist-packages (from tensorflow==2.7.0) (3.1.0)\n",
            "Requirement already satisfied: libclang>=9.0.1 in /usr/local/lib/python3.7/dist-packages (from tensorflow==2.7.0) (14.0.1)\n",
            "Requirement already satisfied: grpcio<2.0,>=1.24.3 in /usr/local/lib/python3.7/dist-packages (from tensorflow==2.7.0) (1.44.0)\n",
            "Requirement already satisfied: keras-preprocessing>=1.1.1 in /usr/local/lib/python3.7/dist-packages (from tensorflow==2.7.0) (1.1.2)\n",
            "Requirement already satisfied: wheel<1.0,>=0.32.0 in /usr/local/lib/python3.7/dist-packages (from tensorflow==2.7.0) (0.37.1)\n",
            "Requirement already satisfied: opt-einsum>=2.3.2 in /usr/local/lib/python3.7/dist-packages (from tensorflow==2.7.0) (3.3.0)\n",
            "Requirement already satisfied: protobuf>=3.9.2 in /usr/local/lib/python3.7/dist-packages (from tensorflow==2.7.0) (3.17.3)\n",
            "Requirement already satisfied: absl-py>=0.4.0 in /usr/local/lib/python3.7/dist-packages (from tensorflow==2.7.0) (1.0.0)\n",
            "Collecting keras<2.8,>=2.7.0rc0\n",
            "  Downloading keras-2.7.0-py2.py3-none-any.whl (1.3 MB)\n",
            "\u001b[K     |████████████████████████████████| 1.3 MB 49.9 MB/s \n",
            "\u001b[?25hRequirement already satisfied: numpy>=1.14.5 in /usr/local/lib/python3.7/dist-packages (from tensorflow==2.7.0) (1.21.6)\n",
            "Collecting gast<0.5.0,>=0.2.1\n",
            "  Downloading gast-0.4.0-py3-none-any.whl (9.8 kB)\n",
            "Requirement already satisfied: flatbuffers<3.0,>=1.12 in /usr/local/lib/python3.7/dist-packages (from tensorflow==2.7.0) (2.0)\n",
            "Requirement already satisfied: six>=1.12.0 in /usr/local/lib/python3.7/dist-packages (from tensorflow==2.7.0) (1.15.0)\n",
            "Requirement already satisfied: tensorflow-io-gcs-filesystem>=0.21.0 in /usr/local/lib/python3.7/dist-packages (from tensorflow==2.7.0) (0.25.0)\n",
            "Requirement already satisfied: wrapt>=1.11.0 in /usr/local/lib/python3.7/dist-packages (from tensorflow==2.7.0) (1.14.0)\n",
            "Requirement already satisfied: typing-extensions>=3.6.6 in /usr/local/lib/python3.7/dist-packages (from tensorflow==2.7.0) (4.2.0)\n",
            "Requirement already satisfied: tensorboard~=2.6 in /usr/local/lib/python3.7/dist-packages (from tensorflow==2.7.0) (2.8.0)\n",
            "Requirement already satisfied: cached-property in /usr/local/lib/python3.7/dist-packages (from h5py>=2.9.0->tensorflow==2.7.0) (1.5.2)\n",
            "Requirement already satisfied: werkzeug>=0.11.15 in /usr/local/lib/python3.7/dist-packages (from tensorboard~=2.6->tensorflow==2.7.0) (1.0.1)\n",
            "Requirement already satisfied: tensorboard-data-server<0.7.0,>=0.6.0 in /usr/local/lib/python3.7/dist-packages (from tensorboard~=2.6->tensorflow==2.7.0) (0.6.1)\n",
            "Requirement already satisfied: requests<3,>=2.21.0 in /usr/local/lib/python3.7/dist-packages (from tensorboard~=2.6->tensorflow==2.7.0) (2.23.0)\n",
            "Requirement already satisfied: tensorboard-plugin-wit>=1.6.0 in /usr/local/lib/python3.7/dist-packages (from tensorboard~=2.6->tensorflow==2.7.0) (1.8.1)\n",
            "Requirement already satisfied: google-auth<3,>=1.6.3 in /usr/local/lib/python3.7/dist-packages (from tensorboard~=2.6->tensorflow==2.7.0) (1.35.0)\n",
            "Requirement already satisfied: setuptools>=41.0.0 in /usr/local/lib/python3.7/dist-packages (from tensorboard~=2.6->tensorflow==2.7.0) (57.4.0)\n",
            "Requirement already satisfied: google-auth-oauthlib<0.5,>=0.4.1 in /usr/local/lib/python3.7/dist-packages (from tensorboard~=2.6->tensorflow==2.7.0) (0.4.6)\n",
            "Requirement already satisfied: markdown>=2.6.8 in /usr/local/lib/python3.7/dist-packages (from tensorboard~=2.6->tensorflow==2.7.0) (3.3.6)\n",
            "Requirement already satisfied: pyasn1-modules>=0.2.1 in /usr/local/lib/python3.7/dist-packages (from google-auth<3,>=1.6.3->tensorboard~=2.6->tensorflow==2.7.0) (0.2.8)\n",
            "Requirement already satisfied: rsa<5,>=3.1.4 in /usr/local/lib/python3.7/dist-packages (from google-auth<3,>=1.6.3->tensorboard~=2.6->tensorflow==2.7.0) (4.8)\n",
            "Requirement already satisfied: cachetools<5.0,>=2.0.0 in /usr/local/lib/python3.7/dist-packages (from google-auth<3,>=1.6.3->tensorboard~=2.6->tensorflow==2.7.0) (4.2.4)\n",
            "Requirement already satisfied: requests-oauthlib>=0.7.0 in /usr/local/lib/python3.7/dist-packages (from google-auth-oauthlib<0.5,>=0.4.1->tensorboard~=2.6->tensorflow==2.7.0) (1.3.1)\n",
            "Requirement already satisfied: importlib-metadata>=4.4 in /usr/local/lib/python3.7/dist-packages (from markdown>=2.6.8->tensorboard~=2.6->tensorflow==2.7.0) (4.11.3)\n",
            "Requirement already satisfied: zipp>=0.5 in /usr/local/lib/python3.7/dist-packages (from importlib-metadata>=4.4->markdown>=2.6.8->tensorboard~=2.6->tensorflow==2.7.0) (3.8.0)\n",
            "Requirement already satisfied: pyasn1<0.5.0,>=0.4.6 in /usr/local/lib/python3.7/dist-packages (from pyasn1-modules>=0.2.1->google-auth<3,>=1.6.3->tensorboard~=2.6->tensorflow==2.7.0) (0.4.8)\n",
            "Requirement already satisfied: certifi>=2017.4.17 in /usr/local/lib/python3.7/dist-packages (from requests<3,>=2.21.0->tensorboard~=2.6->tensorflow==2.7.0) (2021.10.8)\n",
            "Requirement already satisfied: urllib3!=1.25.0,!=1.25.1,<1.26,>=1.21.1 in /usr/local/lib/python3.7/dist-packages (from requests<3,>=2.21.0->tensorboard~=2.6->tensorflow==2.7.0) (1.24.3)\n",
            "Requirement already satisfied: idna<3,>=2.5 in /usr/local/lib/python3.7/dist-packages (from requests<3,>=2.21.0->tensorboard~=2.6->tensorflow==2.7.0) (2.10)\n",
            "Requirement already satisfied: chardet<4,>=3.0.2 in /usr/local/lib/python3.7/dist-packages (from requests<3,>=2.21.0->tensorboard~=2.6->tensorflow==2.7.0) (3.0.4)\n",
            "Requirement already satisfied: oauthlib>=3.0.0 in /usr/local/lib/python3.7/dist-packages (from requests-oauthlib>=0.7.0->google-auth-oauthlib<0.5,>=0.4.1->tensorboard~=2.6->tensorflow==2.7.0) (3.2.0)\n",
            "Installing collected packages: tensorflow-estimator, keras, gast, tensorflow\n",
            "  Attempting uninstall: tensorflow-estimator\n",
            "    Found existing installation: tensorflow-estimator 2.8.0\n",
            "    Uninstalling tensorflow-estimator-2.8.0:\n",
            "      Successfully uninstalled tensorflow-estimator-2.8.0\n",
            "  Attempting uninstall: keras\n",
            "    Found existing installation: keras 2.8.0\n",
            "    Uninstalling keras-2.8.0:\n",
            "      Successfully uninstalled keras-2.8.0\n",
            "  Attempting uninstall: gast\n",
            "    Found existing installation: gast 0.5.3\n",
            "    Uninstalling gast-0.5.3:\n",
            "      Successfully uninstalled gast-0.5.3\n",
            "  Attempting uninstall: tensorflow\n",
            "    Found existing installation: tensorflow 2.8.0\n",
            "    Uninstalling tensorflow-2.8.0:\n",
            "      Successfully uninstalled tensorflow-2.8.0\n",
            "Successfully installed gast-0.4.0 keras-2.7.0 tensorflow-2.7.0 tensorflow-estimator-2.7.0\n",
            "Requirement already satisfied: h5py in /usr/local/lib/python3.7/dist-packages (3.1.0)\n",
            "Requirement already satisfied: cached-property in /usr/local/lib/python3.7/dist-packages (from h5py) (1.5.2)\n",
            "Requirement already satisfied: numpy>=1.14.5 in /usr/local/lib/python3.7/dist-packages (from h5py) (1.21.6)\n",
            "Requirement already satisfied: Pillow in /usr/local/lib/python3.7/dist-packages (7.1.2)\n"
          ]
        }
      ],
      "source": [
        "!pip3 install tensorflow==2.7.0\n",
        "!pip3 install h5py"
      ]
    },
    {
      "cell_type": "markdown",
      "metadata": {
        "id": "TYqv80wtUTp_"
      },
      "source": [
        "###General Libraries\n",
        "Importing the general libraries that are not specific to CNNs in particular including numpy, matplotlib and pandas. They are used for executing operations on the dataset both in array and dataframe formats and for visualization purposes. Seaborn is used for the visualization of the confusion matrix at the end, and the rest of the libraries are used for various calculations."
      ]
    },
    {
      "cell_type": "code",
      "execution_count": 4,
      "metadata": {
        "id": "OF7ZOOF6rgw9"
      },
      "outputs": [],
      "source": [
        "import numpy as np\n",
        "import matplotlib.pyplot as plt\n",
        "import pandas as pd\n",
        "import seaborn as sns\n",
        "import math\n",
        "import random\n",
        "from time import time"
      ]
    },
    {
      "cell_type": "markdown",
      "metadata": {
        "id": "o0uGS4YUUPMD"
      },
      "source": [
        "###Model Specific Libraris\n",
        "The libraries imported in the next cell are specific to machine learning work. Scikit learn is used in vaious stages of the program, including data preprocessing and model evaluation. Tensorflow is the backbone of the model. Keras is used for constructing the model layer by layer using Tensorflow. It is also used for the early stopping and model check point functionalities."
      ]
    },
    {
      "cell_type": "code",
      "execution_count": 5,
      "metadata": {
        "id": "Oqd-bOlbUOqI"
      },
      "outputs": [],
      "source": [
        "import tensorflow as tf\n",
        "from sklearn import preprocessing\n",
        "from sklearn import svm\n",
        "from sklearn.model_selection import train_test_split\n",
        "from sklearn.preprocessing import StandardScaler\n",
        "from sklearn.preprocessing import OneHotEncoder\n",
        "from sklearn.metrics import classification_report, confusion_matrix, accuracy_score\n",
        "from tensorflow.keras import datasets, layers, models\n",
        "from tensorflow.keras.callbacks import EarlyStopping, ModelCheckpoint\n",
        "from tensorflow.keras.metrics import Precision, Recall, AUC\n",
        "from tensorflow.keras.models import load_model"
      ]
    },
    {
      "cell_type": "markdown",
      "metadata": {
        "id": "eQPPJG_epm2Y"
      },
      "source": [
        "##Importing the data from csv files to variables\n",
        "Note that since we are applying CNNs here, no need for feature extraction. Therefore, we should use the original features as they are. The next cell is importing the data features and labels that were previously saved in csv format to pandas dataframes."
      ]
    },
    {
      "cell_type": "code",
      "execution_count": 11,
      "metadata": {
        "id": "-X70qDJpprrP"
      },
      "outputs": [],
      "source": [
        "df_features = pd.read_csv('features.csv')\n",
        "df_labels = pd.read_csv('labels.csv')"
      ]
    },
    {
      "cell_type": "markdown",
      "metadata": {
        "id": "oaj2KTTV7LsN"
      },
      "source": [
        "Now converting to numpy arrays as they are easier to deal with in the upcoming functions of the scikit-learn library."
      ]
    },
    {
      "cell_type": "code",
      "execution_count": 12,
      "metadata": {
        "id": "pK2-6Usg5OUs"
      },
      "outputs": [],
      "source": [
        "features = df_features.to_numpy()\n",
        "labels = df_labels.to_numpy()"
      ]
    },
    {
      "cell_type": "markdown",
      "metadata": {
        "id": "e1T4Gb1Abfyp"
      },
      "source": [
        "##Normalizing the features\n",
        "Normalizing the data features to be all within the range [0, 1] to make the training process faster and to decrese the chances of getting stuck in local minima. This would also be useful for the activation functions. "
      ]
    },
    {
      "cell_type": "code",
      "execution_count": 13,
      "metadata": {
        "id": "KT6SJbWGbfyq"
      },
      "outputs": [],
      "source": [
        "scaler = preprocessing.MinMaxScaler()\n",
        "normalized_features = scaler.fit_transform(features)"
      ]
    },
    {
      "cell_type": "markdown",
      "metadata": {
        "id": "mhoVGiAecf3s"
      },
      "source": [
        "##Encoding the labels using one-hot encoding\n",
        "The reason for that is that there is no real relation between the integer values in the original labels vector and the labels.If the original encoding is used, where the label is an integer between [0, 9], the model might think that there is some kind of order implied by these numbers. This might be misleading for the model. One hot encoding might be better in this case. "
      ]
    },
    {
      "cell_type": "code",
      "execution_count": 14,
      "metadata": {
        "id": "6doyzeBpcnfS"
      },
      "outputs": [],
      "source": [
        "encoder = OneHotEncoder(sparse = False)\n",
        "encoded_labels = encoder.fit_transform(labels)"
      ]
    },
    {
      "cell_type": "markdown",
      "metadata": {
        "id": "4Cqwe1GNUX7g"
      },
      "source": [
        "##Reshaping the feature matrix for Tensorflow\n",
        "Originally, the featurs were in the form of a 60000x3072 matrix, where each row is the representation of one image. The values corresponding to the red color component is represented in the first 1024 values, followed by 1024 for the green color component, and 1024 for the blue color component. In tensorflow, the conventional shape of entering the data is a 3 dimensional matrix in the form (number of images, image width, image height, 3) for RGB images. In my case it would be (60000, 32, 32, 3). To acheive this shape, the features matrix is reshaped to (60000, 3, 32, 32) then transposed to be in the form (60000, 32, 32, 3)."
      ]
    },
    {
      "cell_type": "code",
      "execution_count": 20,
      "metadata": {
        "id": "olQweoOSUda5"
      },
      "outputs": [],
      "source": [
        "reshaped_features = np.reshape(normalized_features, (60000, 3, 32, 32))\n",
        "transposed_features = reshaped_features.transpose(0, 2, 3, 1)"
      ]
    },
    {
      "cell_type": "markdown",
      "metadata": {
        "id": "Dqti_ojlRavw"
      },
      "source": [
        "##Ensuring results reproducibility\n",
        "The next cell was supposed to be used for ensuring the reproducibility of the results by setting the seed for all random operations to a predetermined number. I have decided not to use this cell as I do not really understand all the operations included, but decided to keep it in here for future investigation."
      ]
    },
    {
      "cell_type": "code",
      "execution_count": 68,
      "metadata": {
        "id": "KzGgBJ3sRl18"
      },
      "outputs": [],
      "source": [
        "#os.environ['TF_DETERMINISTIC_OPS'] = '1'\n",
        "#SEED = 20\n",
        "#os.environ['PYTHONHASHSEED'] = str(SEED)\n",
        "#random.seed(SEED)\n",
        "#np.random.seed(SEED)\n",
        "#tf.random.set_seed(SEED)"
      ]
    },
    {
      "cell_type": "markdown",
      "metadata": {
        "id": "Mudg9s8YQHtt"
      },
      "source": [
        "##Setting the parameters\n",
        "The next cell is used for setting all the parameters of the model. It has been proved to be much easier to group all the values that can be changed in one place to avoid the confusion and weird issues if the values are changed in the functions themselves as they could be changed in one place and forgotten in another. This way, to improve the model, I can test the effect of each parameter without worrying about the functions themselves in the other cells."
      ]
    },
    {
      "cell_type": "code",
      "execution_count": 6,
      "metadata": {
        "id": "2h5Yl73NNGHy"
      },
      "outputs": [],
      "source": [
        "SIZE = 32                                                                       # Don't Change\n",
        "BATCHES = 32\n",
        "EPOCHS = 100\n",
        "LEARNING_RATE = 0.001\n",
        "ACTIVATION = 'relu'\n",
        "FILTER = (2, 2)                                                                 # Don't Change\n",
        "POOLING = (2, 2)                                                                # Don't Change\n",
        "OPTIMIZER = 'adam'\n",
        "LOSS = tf.keras.losses.CategoricalCrossentropy(from_logits = True)              \n",
        "METRICS = ['accuracy']\n",
        "TEST = 10000/60000                                                              # Don't Change\n",
        "VALIDATION = 10000/50000                                                        # Don't Change\n",
        "INPUT_SHAPE = (32, 32, 3)                                                       # Don't Change\n",
        "OUTPUTS = 10                                                                    # Don't Change"
      ]
    },
    {
      "cell_type": "markdown",
      "metadata": {
        "id": "CONf33Njjv0w"
      },
      "source": [
        "##Dividing the dataset into training, validation and testing sets\n",
        "Although the dataset originally was divided into a training and a testing portion when downloaded from the source, I have combined them all together in the CIFAR10_Data.ipynb file for better processing of the features and for better generalization as the training, validation and testing sets would be chosen randomly in the following cell."
      ]
    },
    {
      "cell_type": "code",
      "execution_count": 28,
      "metadata": {
        "id": "04MPM0URjwEQ"
      },
      "outputs": [],
      "source": [
        "X_train, X_test, y_train, y_test = train_test_split(transposed_features, encoded_labels, test_size = TEST)\n",
        "X_train, X_val, y_train, y_val = train_test_split(X_train, y_train, test_size = VALIDATION)"
      ]
    },
    {
      "cell_type": "markdown",
      "metadata": {
        "id": "-iK3EebA_P4I"
      },
      "source": [
        "##Building the model\n",
        "The model is built using the Keras API that will act as an interface to tensorflow. The model layers are added sequentially starting with the convolutional and maxpooling layers then ending with the dense fully connected layers. The final model consists of 3 convolutional layers, 2 maxpooling layers, and 2 dense layers. The inputs are flattened before the first dense layers to transform them from 3-dimensional to be 1-dimensional. The final dense layer (the output layer) is set to have 10 outputs that correspond to the 10 classes that we have in the dataset."
      ]
    },
    {
      "cell_type": "markdown",
      "metadata": {
        "id": "pnjXCbYYCsyn"
      },
      "source": [
        "###Convolutional and MaxPooling layers"
      ]
    },
    {
      "cell_type": "code",
      "execution_count": 29,
      "metadata": {
        "colab": {
          "base_uri": "https://localhost:8080/"
        },
        "id": "lbODduIv_vHP",
        "outputId": "78bbab86-1822-4e13-daf7-77f47bd68d1f"
      },
      "outputs": [
        {
          "output_type": "stream",
          "name": "stdout",
          "text": [
            "Model: \"sequential\"\n",
            "_________________________________________________________________\n",
            " Layer (type)                Output Shape              Param #   \n",
            "=================================================================\n",
            " conv2d (Conv2D)             (None, 31, 31, 32)        416       \n",
            "                                                                 \n",
            " max_pooling2d (MaxPooling2D  (None, 15, 15, 32)       0         \n",
            " )                                                               \n",
            "                                                                 \n",
            " conv2d_1 (Conv2D)           (None, 14, 14, 64)        8256      \n",
            "                                                                 \n",
            " max_pooling2d_1 (MaxPooling  (None, 7, 7, 64)         0         \n",
            " 2D)                                                             \n",
            "                                                                 \n",
            " conv2d_2 (Conv2D)           (None, 6, 6, 64)          16448     \n",
            "                                                                 \n",
            "=================================================================\n",
            "Total params: 25,120\n",
            "Trainable params: 25,120\n",
            "Non-trainable params: 0\n",
            "_________________________________________________________________\n"
          ]
        }
      ],
      "source": [
        "model = models.Sequential()\n",
        "model.add(layers.Conv2D(SIZE, FILTER, activation = ACTIVATION, input_shape = INPUT_SHAPE))         # First convolutional layer\n",
        "model.add(layers.MaxPooling2D(POOLING))                                                            # First MaxPooling\n",
        "model.add(layers.Conv2D(2*SIZE, FILTER, activation = ACTIVATION))                                  # Second convolutional layer\n",
        "model.add(layers.MaxPooling2D(POOLING))                                                            # Second MaxPooling\n",
        "model.add(layers.Conv2D(2*SIZE, FILTER, activation = ACTIVATION))                                  # Third convolutional layer\n",
        "model.summary()"
      ]
    },
    {
      "cell_type": "markdown",
      "metadata": {
        "id": "asJ82Sp1D36j"
      },
      "source": [
        "###Dense layers"
      ]
    },
    {
      "cell_type": "code",
      "execution_count": 30,
      "metadata": {
        "colab": {
          "base_uri": "https://localhost:8080/"
        },
        "id": "k7lIvD6cD67t",
        "outputId": "dcae108b-b39a-4bb6-9357-63a639501afa"
      },
      "outputs": [
        {
          "output_type": "stream",
          "name": "stdout",
          "text": [
            "Model: \"sequential\"\n",
            "_________________________________________________________________\n",
            " Layer (type)                Output Shape              Param #   \n",
            "=================================================================\n",
            " conv2d (Conv2D)             (None, 31, 31, 32)        416       \n",
            "                                                                 \n",
            " max_pooling2d (MaxPooling2D  (None, 15, 15, 32)       0         \n",
            " )                                                               \n",
            "                                                                 \n",
            " conv2d_1 (Conv2D)           (None, 14, 14, 64)        8256      \n",
            "                                                                 \n",
            " max_pooling2d_1 (MaxPooling  (None, 7, 7, 64)         0         \n",
            " 2D)                                                             \n",
            "                                                                 \n",
            " conv2d_2 (Conv2D)           (None, 6, 6, 64)          16448     \n",
            "                                                                 \n",
            " flatten (Flatten)           (None, 2304)              0         \n",
            "                                                                 \n",
            " dense (Dense)               (None, 64)                147520    \n",
            "                                                                 \n",
            " dense_1 (Dense)             (None, 10)                650       \n",
            "                                                                 \n",
            "=================================================================\n",
            "Total params: 173,290\n",
            "Trainable params: 173,290\n",
            "Non-trainable params: 0\n",
            "_________________________________________________________________\n"
          ]
        }
      ],
      "source": [
        "model.add(layers.Flatten())                                 # Flattening because input to this layer is 3D Tensor\n",
        "model.add(layers.Dense(2*SIZE, activation = ACTIVATION))    \n",
        "model.add(layers.Dense(OUTPUTS))                            # Output layer (10 outputs for 10 classes)\n",
        "model.summary()"
      ]
    },
    {
      "cell_type": "markdown",
      "metadata": {
        "id": "1nwq0wGRqxZL"
      },
      "source": [
        "##Early stopping and model checkpoint callback functions\n",
        "Early stopping callback function will be used for stopping the training process once there is no change detected in the validation accuracy for a certain number of epochs (patience = 10 epochs). This will allow more freedom in setting a large number of epochs initially while ensuring that no overfitting occurs. \n",
        "\n",
        "The model checkpoint callback function will be used for saving the current configurations of the model each epoch where the validation accuracy improves. This will go hand in hand with early stopping to save the best model and also ensure that no overfitting occurs."
      ]
    },
    {
      "cell_type": "code",
      "execution_count": 31,
      "metadata": {
        "id": "i8LWR_xOqaPt"
      },
      "outputs": [],
      "source": [
        "early_stopping = EarlyStopping(monitor = 'val_accuracy', mode = 'max', patience = 10, verbose = 1, min_delta = 0.01)\n",
        "check_point = ModelCheckpoint('best_cnn.h5', monitor = 'val_accuracy', mode = 'max', save_best_only = True, verbose = 1)\n",
        "CALLBACKS = [early_stopping, check_point]"
      ]
    },
    {
      "cell_type": "markdown",
      "metadata": {
        "id": "mV_KERjhFpl4"
      },
      "source": [
        "##Training and validation"
      ]
    },
    {
      "cell_type": "code",
      "execution_count": 32,
      "metadata": {
        "colab": {
          "base_uri": "https://localhost:8080/"
        },
        "id": "2AYuRIVeFtyG",
        "outputId": "2f2d4c36-5143-4dc6-9f72-5c01103dcc2f"
      },
      "outputs": [
        {
          "output_type": "stream",
          "name": "stdout",
          "text": [
            "Epoch 1/100\n",
            "1249/1250 [============================>.] - ETA: 0s - loss: 1.5022 - accuracy: 0.4585\n",
            "Epoch 00001: val_accuracy improved from -inf to 0.56290, saving model to best_cnn.h5\n",
            "1250/1250 [==============================] - 37s 29ms/step - loss: 1.5018 - accuracy: 0.4586 - val_loss: 1.2313 - val_accuracy: 0.5629\n",
            "Epoch 2/100\n",
            "1250/1250 [==============================] - ETA: 0s - loss: 1.1257 - accuracy: 0.6034\n",
            "Epoch 00002: val_accuracy improved from 0.56290 to 0.64610, saving model to best_cnn.h5\n",
            "1250/1250 [==============================] - 41s 33ms/step - loss: 1.1257 - accuracy: 0.6034 - val_loss: 1.0191 - val_accuracy: 0.6461\n",
            "Epoch 3/100\n",
            "1249/1250 [============================>.] - ETA: 0s - loss: 0.9768 - accuracy: 0.6547\n",
            "Epoch 00003: val_accuracy improved from 0.64610 to 0.65670, saving model to best_cnn.h5\n",
            "1250/1250 [==============================] - 36s 29ms/step - loss: 0.9767 - accuracy: 0.6547 - val_loss: 0.9724 - val_accuracy: 0.6567\n",
            "Epoch 4/100\n",
            "1249/1250 [============================>.] - ETA: 0s - loss: 0.8848 - accuracy: 0.6913\n",
            "Epoch 00004: val_accuracy improved from 0.65670 to 0.68600, saving model to best_cnn.h5\n",
            "1250/1250 [==============================] - 35s 28ms/step - loss: 0.8849 - accuracy: 0.6912 - val_loss: 0.9077 - val_accuracy: 0.6860\n",
            "Epoch 5/100\n",
            "1249/1250 [============================>.] - ETA: 0s - loss: 0.8045 - accuracy: 0.7176\n",
            "Epoch 00005: val_accuracy improved from 0.68600 to 0.69380, saving model to best_cnn.h5\n",
            "1250/1250 [==============================] - 34s 28ms/step - loss: 0.8044 - accuracy: 0.7177 - val_loss: 0.8777 - val_accuracy: 0.6938\n",
            "Epoch 6/100\n",
            "1249/1250 [============================>.] - ETA: 0s - loss: 0.7487 - accuracy: 0.7389\n",
            "Epoch 00006: val_accuracy improved from 0.69380 to 0.69950, saving model to best_cnn.h5\n",
            "1250/1250 [==============================] - 34s 28ms/step - loss: 0.7486 - accuracy: 0.7389 - val_loss: 0.8720 - val_accuracy: 0.6995\n",
            "Epoch 7/100\n",
            "1250/1250 [==============================] - ETA: 0s - loss: 0.6961 - accuracy: 0.7545\n",
            "Epoch 00007: val_accuracy improved from 0.69950 to 0.71020, saving model to best_cnn.h5\n",
            "1250/1250 [==============================] - 34s 27ms/step - loss: 0.6961 - accuracy: 0.7545 - val_loss: 0.8599 - val_accuracy: 0.7102\n",
            "Epoch 8/100\n",
            "1249/1250 [============================>.] - ETA: 0s - loss: 0.6395 - accuracy: 0.7778\n",
            "Epoch 00008: val_accuracy improved from 0.71020 to 0.71510, saving model to best_cnn.h5\n",
            "1250/1250 [==============================] - 33s 26ms/step - loss: 0.6398 - accuracy: 0.7777 - val_loss: 0.8517 - val_accuracy: 0.7151\n",
            "Epoch 9/100\n",
            "1250/1250 [==============================] - ETA: 0s - loss: 0.5925 - accuracy: 0.7930\n",
            "Epoch 00009: val_accuracy did not improve from 0.71510\n",
            "1250/1250 [==============================] - 34s 27ms/step - loss: 0.5925 - accuracy: 0.7930 - val_loss: 0.9057 - val_accuracy: 0.7003\n",
            "Epoch 10/100\n",
            "1248/1250 [============================>.] - ETA: 0s - loss: 0.5542 - accuracy: 0.8071\n",
            "Epoch 00010: val_accuracy did not improve from 0.71510\n",
            "1250/1250 [==============================] - 35s 28ms/step - loss: 0.5543 - accuracy: 0.8070 - val_loss: 0.8751 - val_accuracy: 0.7142\n",
            "Epoch 11/100\n",
            "1250/1250 [==============================] - ETA: 0s - loss: 0.5131 - accuracy: 0.8215\n",
            "Epoch 00011: val_accuracy did not improve from 0.71510\n",
            "1250/1250 [==============================] - 35s 28ms/step - loss: 0.5131 - accuracy: 0.8215 - val_loss: 0.9166 - val_accuracy: 0.7079\n",
            "Epoch 12/100\n",
            "1250/1250 [==============================] - ETA: 0s - loss: 0.4696 - accuracy: 0.8367\n",
            "Epoch 00012: val_accuracy did not improve from 0.71510\n",
            "1250/1250 [==============================] - 37s 29ms/step - loss: 0.4696 - accuracy: 0.8367 - val_loss: 0.9276 - val_accuracy: 0.7109\n",
            "Epoch 13/100\n",
            "1249/1250 [============================>.] - ETA: 0s - loss: 0.4328 - accuracy: 0.8471\n",
            "Epoch 00013: val_accuracy did not improve from 0.71510\n",
            "1250/1250 [==============================] - 35s 28ms/step - loss: 0.4328 - accuracy: 0.8471 - val_loss: 1.0092 - val_accuracy: 0.6982\n",
            "Epoch 14/100\n",
            "1248/1250 [============================>.] - ETA: 0s - loss: 0.3979 - accuracy: 0.8584\n",
            "Epoch 00014: val_accuracy did not improve from 0.71510\n",
            "1250/1250 [==============================] - 34s 27ms/step - loss: 0.3982 - accuracy: 0.8583 - val_loss: 1.0558 - val_accuracy: 0.6976\n",
            "Epoch 15/100\n",
            "1249/1250 [============================>.] - ETA: 0s - loss: 0.3641 - accuracy: 0.8706\n",
            "Epoch 00015: val_accuracy did not improve from 0.71510\n",
            "1250/1250 [==============================] - 35s 28ms/step - loss: 0.3641 - accuracy: 0.8706 - val_loss: 1.0914 - val_accuracy: 0.6953\n",
            "Epoch 16/100\n",
            "1249/1250 [============================>.] - ETA: 0s - loss: 0.3360 - accuracy: 0.8795\n",
            "Epoch 00016: val_accuracy did not improve from 0.71510\n",
            "1250/1250 [==============================] - 34s 27ms/step - loss: 0.3362 - accuracy: 0.8794 - val_loss: 1.1245 - val_accuracy: 0.7027\n",
            "Epoch 17/100\n",
            "1250/1250 [==============================] - ETA: 0s - loss: 0.3070 - accuracy: 0.8907\n",
            "Epoch 00017: val_accuracy did not improve from 0.71510\n",
            "1250/1250 [==============================] - 33s 26ms/step - loss: 0.3070 - accuracy: 0.8907 - val_loss: 1.1596 - val_accuracy: 0.6940\n",
            "Epoch 00017: early stopping\n"
          ]
        }
      ],
      "source": [
        "model.compile(optimizer = OPTIMIZER, loss = LOSS, metrics = METRICS)\n",
        "fitted_model = model.fit(X_train, y_train, batch_size = BATCHES, epochs = EPOCHS, validation_data = (X_val, y_val), callbacks = CALLBACKS)"
      ]
    },
    {
      "cell_type": "markdown",
      "source": [
        "##Plotting the training and validation accuracies against the number of epochs\n",
        "This is used for tracking the progress of the trained model visually."
      ],
      "metadata": {
        "id": "vEHAzKJ2zJ-o"
      }
    },
    {
      "cell_type": "code",
      "execution_count": 33,
      "metadata": {
        "colab": {
          "base_uri": "https://localhost:8080/",
          "height": 283
        },
        "id": "QEKTcydkC1LJ",
        "outputId": "1446dfc9-3634-4d39-8a9e-2478d63aa23c"
      },
      "outputs": [
        {
          "output_type": "display_data",
          "data": {
            "text/plain": [
              "<Figure size 432x288 with 1 Axes>"
            ],
            "image/png": "[encoded data removed]"
          },
          "metadata": {
            "needs_background": "light"
          }
        }
      ],
      "source": [
        "plt.plot(fitted_model.history['accuracy'], label = 'accuracy')\n",
        "plt.plot(fitted_model.history['val_accuracy'], label = 'val_accuracy')\n",
        "plt.xlabel('Epoch')\n",
        "plt.ylabel('Accuracy')\n",
        "plt.ylim([0, 1])\n",
        "plt.legend(loc = 'lower right')\n",
        "plt.savefig('Accuracy vs Epochs Trial 7 activation = softmax at the end')"
      ]
    },
    {
      "cell_type": "markdown",
      "metadata": {
        "id": "8Zw-C_Os2Yke"
      },
      "source": [
        "##Evaluation of the model on the testing set"
      ]
    },
    {
      "cell_type": "markdown",
      "metadata": {
        "id": "Vhmx-5fL2VBm"
      },
      "source": [
        "##Loading the best model\n",
        "Here the best saved model during the training process with the best improvement in validation accuracy."
      ]
    },
    {
      "cell_type": "code",
      "execution_count": 40,
      "metadata": {
        "id": "hIYp3RqC2X2N"
      },
      "outputs": [],
      "source": [
        "best_model = load_model('best_cnn.h5')"
      ]
    },
    {
      "cell_type": "markdown",
      "metadata": {
        "id": "jKgyC5K_4O0d"
      },
      "source": [
        "##Testing\n",
        "The tesing set is then used for evaluating the model performance on previously unseen data. The training accuracy is found to be averaged at 71.23%"
      ]
    },
    {
      "cell_type": "code",
      "source": [
        "test_loss, test_acc = best_model.evaluate(X_test,  y_test, verbose=3)\n",
        "y_predicted = best_model.predict(X_test, batch_size = BATCHES, verbose = 1)\n",
        "print('Test Accuracy:', test_acc)"
      ],
      "metadata": {
        "colab": {
          "base_uri": "https://localhost:8080/"
        },
        "id": "fmSlYZA8Dh4U",
        "outputId": "938cb936-e191-4559-e79b-be1e0297cae4"
      },
      "execution_count": 41,
      "outputs": [
        {
          "output_type": "stream",
          "name": "stdout",
          "text": [
            "313/313 [==============================] - 3s 10ms/step\n",
            "Test Accuracy: 0.7123000025749207\n"
          ]
        }
      ]
    },
    {
      "cell_type": "markdown",
      "source": [
        "The result of the previous evaluation is displayed using the upcoming cell. The confusion matrix is plotted using the seaborn library. As the cell in the plotted confusion matrix gets darker, the more images classified at this state. Best case scenario is to have the diagonal as the darkest blue, and white elsewhere. Other metrics used for the evaluation process are precision, recall, and f1 score. The weighted average of the precision is 0.71, weighted average of recall is 0.71, and the weighted average of the f1 score is also 0.71."
      ],
      "metadata": {
        "id": "HFLkbJKK6XRS"
      }
    },
    {
      "cell_type": "code",
      "execution_count": 42,
      "metadata": {
        "colab": {
          "base_uri": "https://localhost:8080/",
          "height": 958
        },
        "id": "gtyDF0MKUcM7",
        "outputId": "effc87db-bdc1-47f3-f66c-a88228066bfc"
      },
      "outputs": [
        {
          "output_type": "stream",
          "name": "stdout",
          "text": [
            "\n",
            "The confusion matrix: \n",
            "[[671  25  51  15  31  12   9  13 101  42]\n",
            " [ 17 839   5   8   5   4   9   8  24  98]\n",
            " [ 57   5 531  67 107  53  55  43  22  10]\n",
            " [  8   8  71 511  98 169  57  30  23  12]\n",
            " [ 22   1  51  48 739  24  31  53  14   7]\n",
            " [  5   1  42 177  76 607  31  60   5   8]\n",
            " [  4  10  45  63  70  27 774   5  13   9]\n",
            " [  9   5  25  41 121  42   3 747   8  13]\n",
            " [ 43  33  19  18  12   4   6   3 843  29]\n",
            " [ 21  80   3  11  10   6   4  14  20 861]] \n",
            "\n"
          ]
        },
        {
          "output_type": "display_data",
          "data": {
            "text/plain": [
              "<Figure size 432x288 with 2 Axes>"
            ],
            "image/png": "[encoded data removed]"
          },
          "metadata": {
            "needs_background": "light"
          }
        },
        {
          "output_type": "stream",
          "name": "stdout",
          "text": [
            "\n",
            "The classification report: \n",
            "              precision    recall  f1-score   support\n",
            "\n",
            "           0       0.78      0.69      0.73       970\n",
            "           1       0.83      0.82      0.83      1017\n",
            "           2       0.63      0.56      0.59       950\n",
            "           3       0.53      0.52      0.53       987\n",
            "           4       0.58      0.75      0.65       990\n",
            "           5       0.64      0.60      0.62      1012\n",
            "           6       0.79      0.76      0.77      1020\n",
            "           7       0.77      0.74      0.75      1014\n",
            "           8       0.79      0.83      0.81      1010\n",
            "           9       0.79      0.84      0.81      1030\n",
            "\n",
            "    accuracy                           0.71     10000\n",
            "   macro avg       0.71      0.71      0.71     10000\n",
            "weighted avg       0.71      0.71      0.71     10000\n",
            "\n",
            "\n",
            "Test Accuracy: 0.7123\n"
          ]
        }
      ],
      "source": [
        "confused = confusion_matrix(np.argmax(y_test, axis = 1), np.argmax(y_predicted, axis = 1))\n",
        "print(\"\\nThe confusion matrix: \")\n",
        "print(confused, '\\n')\n",
        "my_map = sns.heatmap(confused, cmap = 'Blues')\n",
        "my_map.set_title('Seaborn Confusion Matrix Plot')\n",
        "my_map.set_xlabel('\\nPredicted Values')\n",
        "my_map.set_ylabel('Actual Values')\n",
        "my_map.xaxis.set_ticklabels(['airplane', 'automobile', 'bird', 'cat', 'deer', 'dog', 'frog', 'horse', 'ship', 'truck'])\n",
        "plt.xticks(rotation = 90)\n",
        "my_map.yaxis.set_ticklabels(['airplane', 'automobile', 'bird', 'cat', 'deer', 'dog', 'frog', 'horse', 'ship', 'truck'])\n",
        "plt.yticks(rotation = 0)\n",
        "plt.show()\n",
        "report = classification_report(np.argmax(y_test, axis = 1), np.argmax(y_predicted, axis = 1))\n",
        "print(\"\\nThe classification report: \")\n",
        "print(report)\n",
        "acc_score = accuracy_score(np.argmax(y_test, axis = 1), np.argmax(y_predicted, axis = 1))\n",
        "print(\"\\nTest Accuracy:\", acc_score)"
      ]
    },
    {
      "cell_type": "markdown",
      "source": [
        "##Resources\n",
        "\n",
        "Source 1: https://towardsdatascience.com/cifar-10-image-classification-in-tensorflow-5b501f7dc77c\n",
        "\n",
        "Source 2: https://www.tensorflow.org/tutorials/images/cnn\n",
        "\n",
        "Source 3: https://machinelearningmastery.com/how-to-stop-training-deep-neural-networks-at-the-right-time-using-early-stopping/\n",
        "\n",
        "Source 4: https://neptune.ai/blog/keras-metrics\n",
        "\n",
        "Source 5: https://towardsdatascience.com/choosing-the-right-encoding-method-label-vs-onehot-encoder-a4434493149b\n"
      ],
      "metadata": {
        "id": "21VZx3MYqCKb"
      }
    }
  ],
  "metadata": {
    "colab": {
      "collapsed_sections": [],
      "machine_shape": "hm",
      "name": "CIFAR10_CNN.ipynb",
      "provenance": [],
      "authorship_tag": "ABX9TyP7Wv46BexZzyYpx7bd+AJD",
      "include_colab_link": true
    },
    "kernelspec": {
      "display_name": "Python 3",
      "name": "python3"
    },
    "language_info": {
      "name": "python"
    }
  },
  "nbformat": 4,
  "nbformat_minor": 0
}