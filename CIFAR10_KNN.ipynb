{
  "nbformat": 4,
  "nbformat_minor": 0,
  "metadata": {
    "colab": {
      "name": "CIFAR10_KNN.ipynb",
      "provenance": [],
      "collapsed_sections": [],
      "mount_file_id": "1yC1s6nfO-M-EgyBSPceBwbwo2bFQZ9g3",
      "authorship_tag": "ABX9TyP5/62iyoKtjYilefD+JOXn",
      "include_colab_link": true
    },
    "kernelspec": {
      "name": "python3",
      "display_name": "Python 3"
    },
    "language_info": {
      "name": "python"
    }
  },
  "cells": [
    {
      "cell_type": "markdown",
      "metadata": {
        "id": "view-in-github",
        "colab_type": "text"
      },
      "source": [
        "<a href=\"https://colab.research.google.com/github/nourhanOfTerra/CIFAR-10/blob/main/CIFAR10_KNN.ipynb\" target=\"_parent\"><img src=\"https://colab.research.google.com/assets/colab-badge.svg\" alt=\"Open In Colab\"/></a>"
      ]
    },
    {
      "cell_type": "markdown",
      "source": [
        "#CIFAR-10 Classification Model: K-Nearest Neighbours"
      ],
      "metadata": {
        "id": "Je3GfCbYpFYK"
      }
    },
    {
      "cell_type": "markdown",
      "source": [
        "The overall guide: https://towardsdatascience.com/multiclass-classification-using-k-nearest-neighbours-ca5281a9ef76"
      ],
      "metadata": {
        "id": "tUAu8sw7CcdI"
      }
    },
    {
      "cell_type": "markdown",
      "source": [
        "##Mounting Google Drive"
      ],
      "metadata": {
        "id": "2mLC3BJPpQS7"
      }
    },
    {
      "cell_type": "code",
      "source": [
        "from google.colab import drive\n",
        "drive.mount('/content/drive')\n",
        "import os\n",
        "os.chdir('/content/drive/MyDrive/CIFAR-10')"
      ],
      "metadata": {
        "colab": {
          "base_uri": "https://localhost:8080/"
        },
        "id": "hTdSEv-Fa9cx",
        "outputId": "320fdf34-277c-48c1-8be6-ae08be5d84ec"
      },
      "execution_count": 1,
      "outputs": [
        {
          "output_type": "stream",
          "name": "stdout",
          "text": [
            "Drive already mounted at /content/drive; to attempt to forcibly remount, call drive.mount(\"/content/drive\", force_remount=True).\n"
          ]
        }
      ]
    },
    {
      "cell_type": "markdown",
      "source": [
        "##Importing the necessary libraries"
      ],
      "metadata": {
        "id": "SuOC_n6FrYRz"
      }
    },
    {
      "cell_type": "markdown",
      "source": [
        "###General Libraries"
      ],
      "metadata": {
        "id": "TYqv80wtUTp_"
      }
    },
    {
      "cell_type": "code",
      "source": [
        "import numpy as np\n",
        "import matplotlib.pyplot as plt\n",
        "import pandas as pd"
      ],
      "metadata": {
        "id": "OF7ZOOF6rgw9"
      },
      "execution_count": 2,
      "outputs": []
    },
    {
      "cell_type": "markdown",
      "source": [
        "###Model Specific Libraris"
      ],
      "metadata": {
        "id": "o0uGS4YUUPMD"
      }
    },
    {
      "cell_type": "code",
      "source": [
        "from sklearn import preprocessing\n",
        "from sklearn.model_selection import train_test_split\n",
        "from sklearn.model_selection import cross_val_score\n",
        "from sklearn.neighbors import KNeighborsClassifier\n",
        "from sklearn.preprocessing import StandardScaler\n",
        "from sklearn.metrics import classification_report, confusion_matrix, accuracy_score\n",
        "import seaborn as sns"
      ],
      "metadata": {
        "id": "Oqd-bOlbUOqI"
      },
      "execution_count": 3,
      "outputs": []
    },
    {
      "cell_type": "markdown",
      "source": [
        "##Importing the data from csv files to variables"
      ],
      "metadata": {
        "id": "eQPPJG_epm2Y"
      }
    },
    {
      "cell_type": "code",
      "source": [
        "df_extracted_features = pd.read_csv('extracted features.csv')\n",
        "df_labels = pd.read_csv('labels.csv')"
      ],
      "metadata": {
        "id": "-X70qDJpprrP"
      },
      "execution_count": 8,
      "outputs": []
    },
    {
      "cell_type": "markdown",
      "source": [
        "Now converting to numpy arrays as they are easier to deal with in the upcoming functions of the scikit-learn library."
      ],
      "metadata": {
        "id": "oaj2KTTV7LsN"
      }
    },
    {
      "cell_type": "code",
      "source": [
        "extracted_features = df_extracted_features.to_numpy()\n",
        "labels = df_labels.to_numpy()"
      ],
      "metadata": {
        "id": "pK2-6Usg5OUs"
      },
      "execution_count": 13,
      "outputs": []
    },
    {
      "cell_type": "markdown",
      "source": [
        "##Dividing the data into training, validation and tesing sets"
      ],
      "metadata": {
        "id": "35zawaiuvLnK"
      }
    },
    {
      "cell_type": "code",
      "source": [
        "standard_extracted_features = StandardScaler().fit_transform(extracted_features)        # Necessary standardisation step\n",
        "X_train, X_test, y_train, y_test = train_test_split(standard_extracted_features, labels, test_size = 0.2)"
      ],
      "metadata": {
        "id": "zPFt2WYLrzPS"
      },
      "execution_count": 14,
      "outputs": []
    },
    {
      "cell_type": "code",
      "source": [
        "y_train = np.ravel(y_train, order = 'C')\n",
        "y_test = np.ravel(y_test, order = 'C')"
      ],
      "metadata": {
        "id": "jwzZ4-3V90MB"
      },
      "execution_count": 24,
      "outputs": []
    },
    {
      "cell_type": "markdown",
      "source": [
        "##Training and Cross Validation\n",
        "What we can do to optimiza the number of neighbors is to plot the cross validation mean accuracy against the number of neighbors taken for a range from 1 to 500 neighbors for example."
      ],
      "metadata": {
        "id": "-y1tHdi5YePK"
      }
    },
    {
      "cell_type": "code",
      "source": [
        "# # Meant to run only once\n",
        "#accuracies = [0]\n",
        "#no_of_neighbors = [0]\n",
        "#for i in range (1, 101, 1):\n",
        "  #no_of_neighbors.append(i)\n",
        "  #knn = KNeighborsClassifier(n_neighbors = i)\n",
        "  #cross_val_scores = cross_val_score(knn, X_train, y_train.values.ravel(), cv = 5)               # y_train.values.ravel() To convert the labels to 1D array       \n",
        "  #mean_cross_val = np.mean(cross_val_scores)\n",
        "  #accuracies.append(mean_cross_val)\n",
        "\n",
        "#plt.plot(no_of_neighbors, accuracies)\n",
        "#plt.title('Mean Cross Validation Accuracy vs No. of Neighbors')\n",
        "#plt.xlabel('Number of neighbors')\n",
        "#plt.ylabel('Mean Cross Validation Accuracy')\n",
        "#plt.savefig('Mean Cross Validation Accuracy vs No. of Neighbors.png')"
      ],
      "metadata": {
        "colab": {
          "base_uri": "https://localhost:8080/",
          "height": 295
        },
        "id": "HV-JacLOYgkW",
        "outputId": "073d6a06-a02d-4c12-bbec-663de3a1224d"
      },
      "execution_count": 31,
      "outputs": [
        {
          "output_type": "display_data",
          "data": {
            "text/plain": [
              "<Figure size 432x288 with 1 Axes>"
            ],
            "image/png": "[encoded data removed]"
          },
          "metadata": {
            "needs_background": "light"
          }
        }
      ]
    },
    {
      "cell_type": "markdown",
      "source": [
        "Apparently, we can get the highest accuracy (25%) by putting the number of neighbors to be 1. The thing is, 1 Nearest Neighbor will cause overfitting of the model, and we don't want that now, do we? Every thing else will give nearly the same accuracy, so let's go with the conventional 5-NN to fit our model."
      ],
      "metadata": {
        "id": "on10MTuVApGO"
      }
    },
    {
      "cell_type": "code",
      "source": [
        "knn = KNeighborsClassifier(n_neighbors = 5)\n",
        "knn.fit(X_train, y_train)"
      ],
      "metadata": {
        "colab": {
          "base_uri": "https://localhost:8080/"
        },
        "id": "6ju3GjOU8Zs9",
        "outputId": "9f35dbec-0692-4fc6-8bf1-5a0c40af658f"
      },
      "execution_count": 25,
      "outputs": [
        {
          "output_type": "execute_result",
          "data": {
            "text/plain": [
              "KNeighborsClassifier()"
            ]
          },
          "metadata": {},
          "execution_count": 25
        }
      ]
    },
    {
      "cell_type": "markdown",
      "source": [
        "##Testing"
      ],
      "metadata": {
        "id": "fkJRL32HYxJJ"
      }
    },
    {
      "cell_type": "code",
      "source": [
        "y_predicted = knn.predict(X_test)\n",
        "confused = confusion_matrix(y_test, y_predicted)\n",
        "print(\"The confusion matrix: \")\n",
        "print(confused)\n",
        "report = classification_report(y_test, y_predicted)\n",
        "print(\"\\nThe classification report: \")\n",
        "print(report)\n",
        "acc_score = accuracy_score(y_test, y_predicted)\n",
        "print(\"\\nTest Accuracy: \", acc_score)"
      ],
      "metadata": {
        "colab": {
          "base_uri": "https://localhost:8080/"
        },
        "id": "SGNrqVG9Yy12",
        "outputId": "728de2f3-7ba5-49a3-9173-256e6f9c12b1"
      },
      "execution_count": 26,
      "outputs": [
        {
          "output_type": "stream",
          "name": "stdout",
          "text": [
            "The confusion matrix: \n",
            "[[583   1 118   7 126   2  14   0 374   0]\n",
            " [267  57 150  27 283  11  42   0 402   0]\n",
            " [273   0 368  23 409   5  36   1  89   0]\n",
            " [307   2 242  95 341  22  52   1 101   0]\n",
            " [238   0 142  13 683   5  26   1  94   0]\n",
            " [301   0 295  66 372  41  47   2  84   0]\n",
            " [202   0 184  35 565   4 154   1  62   0]\n",
            " [213   0 252  32 492  16  36  45  88   0]\n",
            " [249   1  71  13 110   0  17   0 741   0]\n",
            " [187   2 198  45 300  11  32   5 388   8]]\n",
            "\n",
            "The classification report: \n",
            "              precision    recall  f1-score   support\n",
            "\n",
            "           0       0.21      0.48      0.29      1225\n",
            "           1       0.90      0.05      0.09      1239\n",
            "           2       0.18      0.31      0.23      1204\n",
            "           3       0.27      0.08      0.13      1163\n",
            "           4       0.19      0.57      0.28      1202\n",
            "           5       0.35      0.03      0.06      1208\n",
            "           6       0.34      0.13      0.19      1207\n",
            "           7       0.80      0.04      0.07      1174\n",
            "           8       0.31      0.62      0.41      1202\n",
            "           9       1.00      0.01      0.01      1176\n",
            "\n",
            "    accuracy                           0.23     12000\n",
            "   macro avg       0.45      0.23      0.18     12000\n",
            "weighted avg       0.45      0.23      0.18     12000\n",
            "\n",
            "\n",
            "Test Accuracy:  0.23125\n"
          ]
        }
      ]
    }
  ]
}