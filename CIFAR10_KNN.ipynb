{
  "nbformat": 4,
  "nbformat_minor": 0,
  "metadata": {
    "colab": {
      "name": "CIFAR10_KNN.ipynb",
      "provenance": [],
      "collapsed_sections": [],
      "mount_file_id": "1yC1s6nfO-M-EgyBSPceBwbwo2bFQZ9g3",
      "authorship_tag": "ABX9TyMLLGuZPD0ZnwUe9sEwwBW+",
      "include_colab_link": true
    },
    "kernelspec": {
      "name": "python3",
      "display_name": "Python 3"
    },
    "language_info": {
      "name": "python"
    }
  },
  "cells": [
    {
      "cell_type": "markdown",
      "metadata": {
        "id": "view-in-github",
        "colab_type": "text"
      },
      "source": [
        "<a href=\"https://colab.research.google.com/github/nourhanOfTerra/CIFAR-10/blob/main/CIFAR10_KNN.ipynb\" target=\"_parent\"><img src=\"https://colab.research.google.com/assets/colab-badge.svg\" alt=\"Open In Colab\"/></a>"
      ]
    },
    {
      "cell_type": "markdown",
      "source": [
        "#CIFAR-10 Classification Model: K-Nearest Neighbours"
      ],
      "metadata": {
        "id": "Je3GfCbYpFYK"
      }
    },
    {
      "cell_type": "markdown",
      "source": [
        "##Mounting Google Drive"
      ],
      "metadata": {
        "id": "2mLC3BJPpQS7"
      }
    },
    {
      "cell_type": "code",
      "source": [
        "from google.colab import drive\n",
        "drive.mount('/content/drive')\n",
        "import os\n",
        "os.chdir('/content/drive/MyDrive/CIFAR-10')"
      ],
      "metadata": {
        "colab": {
          "base_uri": "https://localhost:8080/"
        },
        "id": "hTdSEv-Fa9cx",
        "outputId": "6b3174f3-6127-428c-9235-1d898ce77738"
      },
      "execution_count": 1,
      "outputs": [
        {
          "output_type": "stream",
          "name": "stdout",
          "text": [
            "Drive already mounted at /content/drive; to attempt to forcibly remount, call drive.mount(\"/content/drive\", force_remount=True).\n"
          ]
        }
      ]
    },
    {
      "cell_type": "markdown",
      "source": [
        "##Importing the necessary libraries"
      ],
      "metadata": {
        "id": "SuOC_n6FrYRz"
      }
    },
    {
      "cell_type": "markdown",
      "source": [
        "###General Libraries"
      ],
      "metadata": {
        "id": "TYqv80wtUTp_"
      }
    },
    {
      "cell_type": "code",
      "source": [
        "import numpy as np\n",
        "import matplotlib.pyplot as plt\n",
        "import pandas as pd"
      ],
      "metadata": {
        "id": "OF7ZOOF6rgw9"
      },
      "execution_count": 2,
      "outputs": []
    },
    {
      "cell_type": "markdown",
      "source": [
        "###Model Specific Libraris"
      ],
      "metadata": {
        "id": "o0uGS4YUUPMD"
      }
    },
    {
      "cell_type": "code",
      "source": [
        "from sklearn import preprocessing\n",
        "from sklearn.model_selection import train_test_split\n",
        "from sklearn.neighbors import KNeighborsClassifier\n",
        "from sklearn.preprocessing import StandardScaler\n",
        "import seaborn as sns"
      ],
      "metadata": {
        "id": "Oqd-bOlbUOqI"
      },
      "execution_count": 8,
      "outputs": []
    },
    {
      "cell_type": "markdown",
      "source": [
        "##Importing the data from csv files to variables"
      ],
      "metadata": {
        "id": "eQPPJG_epm2Y"
      }
    },
    {
      "cell_type": "code",
      "source": [
        "extracted_features = pd.read_csv('extracted features.csv')\n",
        "labels = pd.read_csv('labels.csv')"
      ],
      "metadata": {
        "id": "-X70qDJpprrP"
      },
      "execution_count": 5,
      "outputs": []
    },
    {
      "cell_type": "markdown",
      "source": [
        "##Dividing the data into training, validation and tesing sets"
      ],
      "metadata": {
        "id": "35zawaiuvLnK"
      }
    },
    {
      "cell_type": "code",
      "source": [
        "standard_extracted_features = pd.DataFrame(StandardScaler().fit_transform(extracted_features))        # Necessary standardisation step\n",
        "X_train, X_test, y_train, y_test = train_test_split(standard_extracted_features, labels, test_size = 0.2)\n",
        "X_train, X_validate, y_train, y_validate = train_test_split(X_train, y_train, test_size = 0.2)"
      ],
      "metadata": {
        "id": "zPFt2WYLrzPS"
      },
      "execution_count": 14,
      "outputs": []
    },
    {
      "cell_type": "markdown",
      "source": [
        "##Training"
      ],
      "metadata": {
        "id": "-y1tHdi5YePK"
      }
    },
    {
      "cell_type": "code",
      "source": [
        "knn = KNeighborsClassifier()\n",
        "knn.fit(X_train, y_train.values.ravel())  # y_train.values.ravel() To convert the labels to 1D array"
      ],
      "metadata": {
        "colab": {
          "base_uri": "https://localhost:8080/"
        },
        "id": "HV-JacLOYgkW",
        "outputId": "6e0c33b3-836e-4b63-d7f8-e2a75c59cda9"
      },
      "execution_count": 16,
      "outputs": [
        {
          "output_type": "execute_result",
          "data": {
            "text/plain": [
              "KNeighborsClassifier()"
            ]
          },
          "metadata": {},
          "execution_count": 16
        }
      ]
    },
    {
      "cell_type": "markdown",
      "source": [
        "##Validation"
      ],
      "metadata": {
        "id": "fkJRL32HYxJJ"
      }
    },
    {
      "cell_type": "code",
      "source": [
        "y_validate = knn.predict(X_validate)"
      ],
      "metadata": {
        "id": "SGNrqVG9Yy12"
      },
      "execution_count": null,
      "outputs": []
    }
  ]
}