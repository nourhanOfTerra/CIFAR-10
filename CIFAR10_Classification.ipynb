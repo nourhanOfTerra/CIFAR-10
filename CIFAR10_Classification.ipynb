{
  "nbformat": 4,
  "nbformat_minor": 0,
  "metadata": {
    "colab": {
      "name": "CIFAR10_Classification.ipynb",
      "provenance": [],
      "collapsed_sections": [],
      "authorship_tag": "ABX9TyM/mYChuPE3NdoMhYk5+F5v",
      "include_colab_link": true
    },
    "kernelspec": {
      "name": "python3",
      "display_name": "Python 3"
    },
    "language_info": {
      "name": "python"
    }
  },
  "cells": [
    {
      "cell_type": "markdown",
      "metadata": {
        "id": "view-in-github",
        "colab_type": "text"
      },
      "source": [
        "<a href=\"https://colab.research.google.com/github/nourhanOfTerra/CIFAR-10/blob/main/CIFAR10_Classification.ipynb\" target=\"_parent\"><img src=\"https://colab.research.google.com/assets/colab-badge.svg\" alt=\"Open In Colab\"/></a>"
      ]
    },
    {
      "cell_type": "markdown",
      "source": [
        "#CIFAR-10 Classification Model: Logistic Regression"
      ],
      "metadata": {
        "id": "IpRg_l3OGhbA"
      }
    },
    {
      "cell_type": "markdown",
      "source": [
        "##Mounting Google Drive"
      ],
      "metadata": {
        "id": "iM2aRTvZbAXi"
      }
    },
    {
      "cell_type": "code",
      "source": [
        "from google.colab import drive\n",
        "drive.mount('/content/drive')"
      ],
      "metadata": {
        "colab": {
          "base_uri": "https://localhost:8080/"
        },
        "id": "hTdSEv-Fa9cx",
        "outputId": "33e972b9-427b-4d51-ce35-a904d5153e50"
      },
      "execution_count": 1,
      "outputs": [
        {
          "output_type": "stream",
          "name": "stdout",
          "text": [
            "Mounted at /content/drive\n"
          ]
        }
      ]
    },
    {
      "cell_type": "markdown",
      "source": [
        "##Importing and installing the required libraries"
      ],
      "metadata": {
        "id": "xE0wJ2-damgO"
      }
    },
    {
      "cell_type": "code",
      "execution_count": 2,
      "metadata": {
        "id": "9-chRmqyF1p2"
      },
      "outputs": [],
      "source": [
        "import numpy as np\n",
        "import matplotlib.pyplot as plt\n",
        "import pickle\n",
        "from sklearn.model_selection import train_test_split"
      ]
    },
    {
      "cell_type": "markdown",
      "source": [
        "##Importing the sklearn model library"
      ],
      "metadata": {
        "id": "vOAUo7N5fxs9"
      }
    },
    {
      "cell_type": "code",
      "source": [
        "from sklearn.linear_model import LogisticRegression"
      ],
      "metadata": {
        "id": "QyJR-FPTf2Ck"
      },
      "execution_count": 3,
      "outputs": []
    },
    {
      "cell_type": "markdown",
      "source": [
        "##Importing the dataset\n",
        "The data files will be \"unpickled\" so to speak, to get an RGB feature matrix and a labels vector. Another vector contains the true names of the labels."
      ],
      "metadata": {
        "id": "YwX9QpS1cAac"
      }
    },
    {
      "cell_type": "markdown",
      "source": [
        "###Defining the paths of the files of the dataset"
      ],
      "metadata": {
        "id": "C4vvzWGZdbhn"
      }
    },
    {
      "cell_type": "code",
      "source": [
        "file_meta = '/content/drive/MyDrive/CIFAR-10/cifar-10-batches-py/batches.meta'\n",
        "file1 = '/content/drive/MyDrive/CIFAR-10/cifar-10-batches-py/data_batch_1'\n",
        "file2 = '/content/drive/MyDrive/CIFAR-10/cifar-10-batches-py/data_batch_2'\n",
        "file3 = '/content/drive/MyDrive/CIFAR-10/cifar-10-batches-py/data_batch_3'\n",
        "file4 = '/content/drive/MyDrive/CIFAR-10/cifar-10-batches-py/data_batch_4'\n",
        "file5 = '/content/drive/MyDrive/CIFAR-10/cifar-10-batches-py/data_batch_5'\n",
        "file_test = '/content/drive/MyDrive/CIFAR-10/cifar-10-batches-py/test_batch'"
      ],
      "metadata": {
        "id": "4CSaMmzPcwnf"
      },
      "execution_count": 4,
      "outputs": []
    },
    {
      "cell_type": "markdown",
      "source": [
        "###File unpickling function"
      ],
      "metadata": {
        "id": "L0sdmwFwdiFc"
      }
    },
    {
      "cell_type": "code",
      "source": [
        "def unpickle(file):\n",
        "  with open(file, 'rb') as fo:\n",
        "    dict = pickle.load(fo, encoding = 'bytes')\n",
        "  return dict"
      ],
      "metadata": {
        "id": "nB07v8RkdllY"
      },
      "execution_count": 5,
      "outputs": []
    },
    {
      "cell_type": "markdown",
      "source": [
        "###Assigning the batches features and labels"
      ],
      "metadata": {
        "id": "JAA-YF7deI8z"
      }
    },
    {
      "cell_type": "code",
      "source": [
        "dict_meta = unpickle(file_meta)   # True names of the labels\n",
        "dict_batch1 = unpickle(file1)     # Batch 1 features and labels\n",
        "dict_batch2 = unpickle(file2)     # Batch 2 features and labels\n",
        "dict_batch3 = unpickle(file3)     # Batch 3 features and labels\n",
        "dict_batch4 = unpickle(file4)     # Batch 4 features and labels\n",
        "dict_batch5 = unpickle(file5)     # Batch 5 features and labels\n",
        "dict_test = unpickle(file_test)   # Test batch features and labels"
      ],
      "metadata": {
        "id": "9fkVgncIeP1q"
      },
      "execution_count": 6,
      "outputs": []
    },
    {
      "cell_type": "markdown",
      "source": [
        "###Recombining the training set"
      ],
      "metadata": {
        "id": "8EI-4xTelTHd"
      }
    },
    {
      "cell_type": "code",
      "source": [
        "data1 = dict_batch1.get(b'data')\n",
        "label1 = dict_batch1.get(b'labels')\n",
        "#print(data1)          #Sanity check\n",
        "#print(label1)          #Sanity check\n",
        "\n",
        "data2 = dict_batch2.get(b'data')\n",
        "label2 = dict_batch2.get(b'labels')\n",
        "\n",
        "data3 = dict_batch3.get(b'data')\n",
        "label3 = dict_batch3.get(b'labels')\n",
        "\n",
        "data4 = dict_batch4.get(b'data')\n",
        "label4 = dict_batch4.get(b'labels')\n",
        "\n",
        "data5 = dict_batch5.get(b'data')\n",
        "label5 = dict_batch5.get(b'labels')\n",
        "#print(data5)          #Sanity check\n",
        "#print(label5)          #Sanity check\n",
        "\n",
        "x_test = dict_test.get(b'data')\n",
        "y_test= dict_test.get(b'labels')"
      ],
      "metadata": {
        "id": "ADXXJbxZlZ7B"
      },
      "execution_count": 25,
      "outputs": []
    },
    {
      "cell_type": "code",
      "source": [
        "x_train = np.vstack([data1, data2, data3, data4, data5])\n",
        "y_train = np.hstack([label1, label2, label3, label4, label5])"
      ],
      "metadata": {
        "id": "NsAlGHgGdUwu"
      },
      "execution_count": 26,
      "outputs": []
    }
  ]
}