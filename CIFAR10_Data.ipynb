{
  "nbformat": 4,
  "nbformat_minor": 0,
  "metadata": {
    "colab": {
      "name": "CIFAR10_Data.ipynb",
      "provenance": [],
      "collapsed_sections": [],
      "mount_file_id": "1Df3M90ZSgOMzs-J2LYTgOrFvCy3qlRV7",
      "authorship_tag": "ABX9TyMyN2gOwhtdq6KqbXsHXj9/",
      "include_colab_link": true
    },
    "kernelspec": {
      "name": "python3",
      "display_name": "Python 3"
    },
    "language_info": {
      "name": "python"
    }
  },
  "cells": [
    {
      "cell_type": "markdown",
      "metadata": {
        "id": "view-in-github",
        "colab_type": "text"
      },
      "source": [
        "<a href=\"https://colab.research.google.com/github/nourhanOfTerra/CIFAR-10/blob/main/CIFAR10_Data.ipynb\" target=\"_parent\"><img src=\"https://colab.research.google.com/assets/colab-badge.svg\" alt=\"Open In Colab\"/></a>"
      ]
    },
    {
      "cell_type": "markdown",
      "source": [
        "#CIFAR-10 Classification Model: Data Preprocessing"
      ],
      "metadata": {
        "id": "IpRg_l3OGhbA"
      }
    },
    {
      "cell_type": "markdown",
      "source": [
        "##Mounting Google Drive"
      ],
      "metadata": {
        "id": "iM2aRTvZbAXi"
      }
    },
    {
      "cell_type": "code",
      "source": [
        "from google.colab import drive\n",
        "drive.mount('/content/drive')\n",
        "import os\n",
        "os.chdir('/content/drive/MyDrive/CIFAR-10')"
      ],
      "metadata": {
        "colab": {
          "base_uri": "https://localhost:8080/"
        },
        "id": "hTdSEv-Fa9cx",
        "outputId": "29394349-b8d6-45cf-fda5-2e65e55237f0"
      },
      "execution_count": 12,
      "outputs": [
        {
          "output_type": "stream",
          "name": "stdout",
          "text": [
            "Drive already mounted at /content/drive; to attempt to forcibly remount, call drive.mount(\"/content/drive\", force_remount=True).\n"
          ]
        }
      ]
    },
    {
      "cell_type": "markdown",
      "source": [
        "##Importing and installing the required libraries"
      ],
      "metadata": {
        "id": "xE0wJ2-damgO"
      }
    },
    {
      "cell_type": "code",
      "execution_count": 13,
      "metadata": {
        "id": "9-chRmqyF1p2"
      },
      "outputs": [],
      "source": [
        "import numpy as np\n",
        "import matplotlib.pyplot as plt\n",
        "import pandas as pd\n",
        "import pickle"
      ]
    },
    {
      "cell_type": "markdown",
      "source": [
        "##Importing the dataset\n",
        "The data files will be \"unpickled\" so to speak, to get an RGB feature matrix and a labels vector. Another vector contains the true names of the labels."
      ],
      "metadata": {
        "id": "YwX9QpS1cAac"
      }
    },
    {
      "cell_type": "markdown",
      "source": [
        "###Defining the paths of the files of the dataset"
      ],
      "metadata": {
        "id": "C4vvzWGZdbhn"
      }
    },
    {
      "cell_type": "code",
      "source": [
        "file_meta = '/content/drive/MyDrive/CIFAR-10/cifar-10-batches-py/batches.meta'\n",
        "file1 = '/content/drive/MyDrive/CIFAR-10/cifar-10-batches-py/data_batch_1'\n",
        "file2 = '/content/drive/MyDrive/CIFAR-10/cifar-10-batches-py/data_batch_2'\n",
        "file3 = '/content/drive/MyDrive/CIFAR-10/cifar-10-batches-py/data_batch_3'\n",
        "file4 = '/content/drive/MyDrive/CIFAR-10/cifar-10-batches-py/data_batch_4'\n",
        "file5 = '/content/drive/MyDrive/CIFAR-10/cifar-10-batches-py/data_batch_5'\n",
        "file_test = '/content/drive/MyDrive/CIFAR-10/cifar-10-batches-py/test_batch'"
      ],
      "metadata": {
        "id": "4CSaMmzPcwnf"
      },
      "execution_count": 14,
      "outputs": []
    },
    {
      "cell_type": "markdown",
      "source": [
        "###File unpickling function"
      ],
      "metadata": {
        "id": "L0sdmwFwdiFc"
      }
    },
    {
      "cell_type": "code",
      "source": [
        "def unpickle(file):\n",
        "  with open(file, 'rb') as fo:\n",
        "    dict = pickle.load(fo, encoding = 'bytes')\n",
        "  return dict"
      ],
      "metadata": {
        "id": "nB07v8RkdllY"
      },
      "execution_count": 15,
      "outputs": []
    },
    {
      "cell_type": "markdown",
      "source": [
        "###Assigning the batches features and labels"
      ],
      "metadata": {
        "id": "JAA-YF7deI8z"
      }
    },
    {
      "cell_type": "code",
      "source": [
        "dict_meta = unpickle(file_meta)   # True names of the labels\n",
        "dict_batch1 = unpickle(file1)     # Batch 1 features and labels\n",
        "dict_batch2 = unpickle(file2)     # Batch 2 features and labels\n",
        "dict_batch3 = unpickle(file3)     # Batch 3 features and labels\n",
        "dict_batch4 = unpickle(file4)     # Batch 4 features and labels\n",
        "dict_batch5 = unpickle(file5)     # Batch 5 features and labels\n",
        "dict_test = unpickle(file_test)   # Test batch features and labels"
      ],
      "metadata": {
        "id": "9fkVgncIeP1q"
      },
      "execution_count": 16,
      "outputs": []
    },
    {
      "cell_type": "markdown",
      "source": [
        "###Recombining the training set"
      ],
      "metadata": {
        "id": "8EI-4xTelTHd"
      }
    },
    {
      "cell_type": "code",
      "source": [
        "data1 = dict_batch1.get(b'data')\n",
        "label1 = dict_batch1.get(b'labels')\n",
        "#print(data1)          #Sanity check\n",
        "#print(label1)          #Sanity check\n",
        "\n",
        "data2 = dict_batch2.get(b'data')\n",
        "label2 = dict_batch2.get(b'labels')\n",
        "\n",
        "data3 = dict_batch3.get(b'data')\n",
        "label3 = dict_batch3.get(b'labels')\n",
        "\n",
        "data4 = dict_batch4.get(b'data')\n",
        "label4 = dict_batch4.get(b'labels')\n",
        "\n",
        "data5 = dict_batch5.get(b'data')\n",
        "label5 = dict_batch5.get(b'labels')\n",
        "#print(data5)          #Sanity check\n",
        "#print(label5)          #Sanity check\n",
        "\n",
        "x_test = dict_test.get(b'data')\n",
        "y_test= dict_test.get(b'labels')"
      ],
      "metadata": {
        "id": "ADXXJbxZlZ7B"
      },
      "execution_count": 17,
      "outputs": []
    },
    {
      "cell_type": "code",
      "source": [
        "x_train = np.vstack([data1, data2, data3, data4, data5])\n",
        "y_train = np.hstack([label1, label2, label3, label4, label5])"
      ],
      "metadata": {
        "id": "NsAlGHgGdUwu"
      },
      "execution_count": 18,
      "outputs": []
    },
    {
      "cell_type": "code",
      "source": [
        "df_xtrain = pd.DataFrame(x_train)\n",
        "df_ytrain = pd.DataFrame(y_train)\n",
        "df_xtest = pd.DataFrame(x_test)\n",
        "df_ytest = pd.DataFrame(y_test)"
      ],
      "metadata": {
        "id": "pjeybIpMiV6l"
      },
      "execution_count": 19,
      "outputs": []
    },
    {
      "cell_type": "markdown",
      "source": [
        "##Exporting the dataset to CSV\n",
        "This is to allow other files in this project to access the same data without having to come back to this file."
      ],
      "metadata": {
        "id": "e0JRDcYylKal"
      }
    },
    {
      "cell_type": "code",
      "source": [
        "df_xtrain.to_csv('training features.csv', index = False, header = False)\n",
        "df_ytrain.to_csv('training labels.csv', index = False, header = False)\n",
        "df_xtest.to_csv('test features.csv', index = False, header = False)\n",
        "df_ytest.to_csv('test labels.csv', index = False, header = False)"
      ],
      "metadata": {
        "id": "WY5PnPIulZCc"
      },
      "execution_count": 21,
      "outputs": []
    }
  ]
}