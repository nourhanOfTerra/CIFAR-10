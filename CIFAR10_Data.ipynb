{
  "cells": [
    {
      "cell_type": "markdown",
      "metadata": {
        "id": "view-in-github",
        "colab_type": "text"
      },
      "source": [
        "<a href=\"https://colab.research.google.com/github/nourhanOfTerra/CIFAR-10/blob/main/CIFAR10_Data.ipynb\" target=\"_parent\"><img src=\"https://colab.research.google.com/assets/colab-badge.svg\" alt=\"Open In Colab\"/></a>"
      ]
    },
    {
      "cell_type": "markdown",
      "metadata": {
        "id": "IpRg_l3OGhbA"
      },
      "source": [
        "#CIFAR-10 Classification Model: Data Preprocessing and Feature Extraction"
      ]
    },
    {
      "cell_type": "markdown",
      "metadata": {
        "id": "iM2aRTvZbAXi"
      },
      "source": [
        "##Mounting Google Drive\n",
        "Run the following cell to mount your Google Drive after uploading the project folder to your drive."
      ]
    },
    {
      "cell_type": "code",
      "execution_count": 1,
      "metadata": {
        "colab": {
          "base_uri": "https://localhost:8080/"
        },
        "id": "hTdSEv-Fa9cx",
        "outputId": "c2f09f02-e128-4546-a1d1-5490aa43a639"
      },
      "outputs": [
        {
          "output_type": "stream",
          "name": "stdout",
          "text": [
            "Drive already mounted at /content/drive; to attempt to forcibly remount, call drive.mount(\"/content/drive\", force_remount=True).\n"
          ]
        }
      ],
      "source": [
        "from google.colab import drive\n",
        "drive.mount('/content/drive')\n",
        "import os\n",
        "os.chdir('/content/drive/MyDrive/CIFAR-10')"
      ]
    },
    {
      "cell_type": "markdown",
      "metadata": {
        "id": "xE0wJ2-damgO"
      },
      "source": [
        "##Importing and installing the required libraries"
      ]
    },
    {
      "cell_type": "code",
      "execution_count": 2,
      "metadata": {
        "id": "9-chRmqyF1p2"
      },
      "outputs": [],
      "source": [
        "import numpy as np                                    # For operations on matrices\n",
        "import matplotlib.pyplot as plt                       # For visualization\n",
        "import pandas as pd                                   # For easier data analysis\n",
        "import pickle                                         # For extraction of the dataset from its files\n",
        "from sklearn.preprocessing import StandardScaler      # For standardizing the dataset before PCA\n",
        "from sklearn.decomposition import PCA                 # For feature extraction using PCA\n",
        "from sklearn import preprocessing\n",
        "from sklearn.model_selection import train_test_split\n",
        "from sklearn.model_selection import cross_val_score\n",
        "from sklearn.neighbors import KNeighborsClassifier\n",
        "from sklearn.preprocessing import StandardScaler\n",
        "from sklearn.metrics import classification_report, confusion_matrix, accuracy_score, precision_score, recall_score, f1_score\n",
        "import seaborn as sns"
      ]
    },
    {
      "cell_type": "markdown",
      "metadata": {
        "id": "YwX9QpS1cAac"
      },
      "source": [
        "##Importing the dataset\n",
        "The data files will be \"unpickled\", to get an RGB feature matrix and a labels vector. Another vector contains the true names of the labels. Originally, the featurs are in the form of a 60000x3072 matrix, where each row is the representation of one image. The values corresponding to the red color component is represented in the first 1024 values, followed by 1024 for the green color component, and 1024 for the blue color component."
      ]
    },
    {
      "cell_type": "markdown",
      "metadata": {
        "id": "C4vvzWGZdbhn"
      },
      "source": [
        "###Defining the paths of the files of the dataset"
      ]
    },
    {
      "cell_type": "code",
      "execution_count": 3,
      "metadata": {
        "id": "4CSaMmzPcwnf"
      },
      "outputs": [],
      "source": [
        "file_meta = '/content/drive/MyDrive/CIFAR-10/cifar-10-batches-py/batches.meta'\n",
        "file1 = '/content/drive/MyDrive/CIFAR-10/cifar-10-batches-py/data_batch_1'\n",
        "file2 = '/content/drive/MyDrive/CIFAR-10/cifar-10-batches-py/data_batch_2'\n",
        "file3 = '/content/drive/MyDrive/CIFAR-10/cifar-10-batches-py/data_batch_3'\n",
        "file4 = '/content/drive/MyDrive/CIFAR-10/cifar-10-batches-py/data_batch_4'\n",
        "file5 = '/content/drive/MyDrive/CIFAR-10/cifar-10-batches-py/data_batch_5'\n",
        "file_test = '/content/drive/MyDrive/CIFAR-10/cifar-10-batches-py/test_batch'"
      ]
    },
    {
      "cell_type": "markdown",
      "metadata": {
        "id": "L0sdmwFwdiFc"
      },
      "source": [
        "###File unpickling function"
      ]
    },
    {
      "cell_type": "code",
      "execution_count": 4,
      "metadata": {
        "id": "nB07v8RkdllY"
      },
      "outputs": [],
      "source": [
        "def unpickle(file):\n",
        "  with open(file, 'rb') as fo:\n",
        "    dict = pickle.load(fo, encoding = 'bytes')\n",
        "  return dict"
      ]
    },
    {
      "cell_type": "markdown",
      "metadata": {
        "id": "JAA-YF7deI8z"
      },
      "source": [
        "###Extracting the dataset from the files"
      ]
    },
    {
      "cell_type": "code",
      "execution_count": 5,
      "metadata": {
        "id": "9fkVgncIeP1q"
      },
      "outputs": [],
      "source": [
        "dict_meta = unpickle(file_meta)   # True names of the labels\n",
        "dict_file1 = unpickle(file1)     # Batch 1 features and labels\n",
        "dict_file2 = unpickle(file2)     # Batch 2 features and labels\n",
        "dict_file3 = unpickle(file3)     # Batch 3 features and labels\n",
        "dict_file4 = unpickle(file4)     # Batch 4 features and labels\n",
        "dict_file5 = unpickle(file5)     # Batch 5 features and labels\n",
        "dict_test = unpickle(file_test)   # Test batch features and labels"
      ]
    },
    {
      "cell_type": "markdown",
      "metadata": {
        "id": "8EI-4xTelTHd"
      },
      "source": [
        "###Extracting the features and labels from the dictionaries\n"
      ]
    },
    {
      "cell_type": "code",
      "execution_count": 6,
      "metadata": {
        "id": "ADXXJbxZlZ7B"
      },
      "outputs": [],
      "source": [
        "data1 = dict_file1.get(b'data')\n",
        "label1 = dict_file1.get(b'labels')\n",
        "#print(data1)          #Sanity check\n",
        "#print(label1)          #Sanity check\n",
        "\n",
        "data2 = dict_file2.get(b'data')\n",
        "label2 = dict_file2.get(b'labels')\n",
        "\n",
        "data3 = dict_file3.get(b'data')\n",
        "label3 = dict_file3.get(b'labels')\n",
        "\n",
        "data4 = dict_file4.get(b'data')\n",
        "label4 = dict_file4.get(b'labels')\n",
        "\n",
        "data5 = dict_file5.get(b'data')\n",
        "label5 = dict_file5.get(b'labels')\n",
        "#print(data5)          #Sanity check\n",
        "#print(label5)          #Sanity check\n",
        "\n",
        "test_feat = dict_test.get(b'data')\n",
        "test_lab = dict_test.get(b'labels')\n",
        "\n",
        "labels_names = dict_meta.get(b'label_names')"
      ]
    },
    {
      "cell_type": "markdown",
      "metadata": {
        "id": "BknuIrecz72q"
      },
      "source": [
        "##Recombining all parts of the dataset to get unified features and labels\n",
        "It would be better to combine the dataset at first due to two reasons. The first is that we would need to do feature extraction in all cases except when using CNNs, and the feature extraction stage should be applied for the whole dataset including both training and testing parts. The second reason is that it would be better for generalization purposes if we randomize the split into training, validation and testing sets."
      ]
    },
    {
      "cell_type": "code",
      "execution_count": 7,
      "metadata": {
        "id": "NsAlGHgGdUwu"
      },
      "outputs": [],
      "source": [
        "features = np.vstack([data1, data2, data3, data4, data5, test_feat])\n",
        "labels = np.hstack([label1, label2, label3, label4, label5, test_lab])"
      ]
    },
    {
      "cell_type": "markdown",
      "metadata": {
        "id": "llbU8Lbz10gB"
      },
      "source": [
        "The next cell is for putting the arrays in pandas dataframe format. This would make analysis easier. "
      ]
    },
    {
      "cell_type": "code",
      "execution_count": 8,
      "metadata": {
        "id": "pjeybIpMiV6l"
      },
      "outputs": [],
      "source": [
        "df_features = pd.DataFrame(features)\n",
        "df_labels = pd.DataFrame(labels)\n",
        "df_labels_names = pd.DataFrame(labels_names)"
      ]
    },
    {
      "cell_type": "markdown",
      "metadata": {
        "id": "wt8ml3-D2EIR"
      },
      "source": [
        "##Feature Extraction using PCA\n",
        "Since the number of features is ridiculously large, it would be beneficial and efficient to do feature extraction to retain only the features that have effect on the result. This would also prevent overfitting. The main idea is to erase any dependancies between the features and obtain a set of features that is completely independent from each other."
      ]
    },
    {
      "cell_type": "markdown",
      "metadata": {
        "id": "77w_e29J9ayh"
      },
      "source": [
        "###Standardization\n",
        "The features are first standardized to get rid of the huge difference between some of the values. The mean = 0 and the variance = 1 after standardization."
      ]
    },
    {
      "cell_type": "code",
      "execution_count": 9,
      "metadata": {
        "id": "bVlhJCH32oIa"
      },
      "outputs": [],
      "source": [
        "standardized = StandardScaler().fit_transform(features)"
      ]
    },
    {
      "cell_type": "markdown",
      "metadata": {
        "id": "efKfKXLJ_Zhs"
      },
      "source": [
        "###PCA\n",
        "Hyperparameter: n_components. \n",
        "\n",
        "To get the optimum number of components, we should get the variance (sigma) for each principle component such that we keep only the principle components that are more relevant. To optimize this process, the sum of the variance ratios is plotted against the number of principle components. What I am trying to do here is to get the best number of principle components that would be much less than the original number of features but still retaining as much variance as possible. The next cell is needed to only run once where we figure out the optimum number of PCs. Note that this is a costly operation, so it is better to only increase the number of PCs under investigation by incrementing by 10 at a time until we reach sum of variance ratios in the 90s."
      ]
    },
    {
      "cell_type": "code",
      "execution_count": null,
      "metadata": {
        "colab": {
          "base_uri": "https://localhost:8080/",
          "height": 295
        },
        "id": "9DSneuI9_b8o",
        "outputId": "618c0841-7222-4736-9ecb-ebb2289e6295"
      },
      "outputs": [
        {
          "output_type": "display_data",
          "data": {
            "text/plain": [
              "<Figure size 432x288 with 1 Axes>"
            ],
            "image/png": "[encoded data removed]"
          },
          "metadata": {
            "needs_background": "light"
          }
        }
      ],
      "source": [
        "#sum_sig_percent = []\n",
        "#num_components = list(range(0, 201, 10))\n",
        "\n",
        "#for i in range(0, 201, 10):\n",
        "  #pca = PCA(n_components = i)\n",
        "  #principle_components = pca.fit_transform(standardized)\n",
        "  #sig = pca.explained_variance_ratio_\n",
        "  #sig_percent = np.sum(sig) * 100\n",
        "  #sum_sig_percent.append(sig_percent)\n",
        "\n",
        "#plt.plot(num_components, sum_sig_percent, marker = 'o')\n",
        "#plt.ylim([0, 100])\n",
        "#plt.title('Percentage of Variance vs Number of PCs')\n",
        "#plt.xlabel('Number of principle components')\n",
        "#plt.ylabel('Percentage of variance')\n",
        "#plt.savefig('Percentage of Variance vs Number of PCs.png')"
      ]
    },
    {
      "cell_type": "markdown",
      "source": [
        "This upcoming method is even more efficient to acheive the same result. Here I am using numpy cumsum function to automatically get the accumulative sum of the variance ratios at each number of components without adding more time complexity like in the previous cell that makes this operation manually."
      ],
      "metadata": {
        "id": "qfI5Vik47nYF"
      }
    },
    {
      "cell_type": "code",
      "source": [
        "pca = PCA().fit(standardized)\n",
        "plt.plot(np.cumsum(pca.explained_variance_ratio_))\n",
        "plt.ylim([0.4, 1])\n",
        "plt.xlim([0, 600])\n",
        "plt.title('Percentage of Variance vs Number of PCs')\n",
        "plt.xlabel('Number of principle components')\n",
        "plt.ylabel('Percentage of variance')\n",
        "plt.grid()\n",
        "plt.savefig('Percentage of Variance vs Number of PCs using cumsum.png')"
      ],
      "metadata": {
        "id": "nPBmaMNO5TRt"
      },
      "execution_count": null,
      "outputs": []
    },
    {
      "cell_type": "markdown",
      "source": [
        "According to the plot, if we stop at 102 PCS, we retain around 89.98% of the variance. Now after deciding on the optimum number of principle components to use, we proceed with saving the principle components as our feature matrix."
      ],
      "metadata": {
        "id": "GIzoOwr9v5qv"
      }
    },
    {
      "cell_type": "code",
      "source": [
        "pca = PCA(n_components = 102)\n",
        "features_extracted = pca.fit_transform(standardized)\n",
        "sig = pca.explained_variance_ratio_\n",
        "sig_percent = np.sum(sig) * 100\n",
        "df_extacted_features = pd.DataFrame(features_extracted)\n",
        "print(sig_percent)"
      ],
      "metadata": {
        "colab": {
          "base_uri": "https://localhost:8080/"
        },
        "id": "t6JoJLexwHmY",
        "outputId": "cfb6b19f-f885-429a-d966-6aa899fff778"
      },
      "execution_count": 10,
      "outputs": [
        {
          "output_type": "stream",
          "name": "stdout",
          "text": [
            "89.9767496195259\n"
          ]
        }
      ]
    },
    {
      "cell_type": "markdown",
      "metadata": {
        "id": "e0JRDcYylKal"
      },
      "source": [
        "##Exporting the dataset to CSV\n",
        "This is to allow other files in this project to access the same data without having to come back to this file."
      ]
    },
    {
      "cell_type": "code",
      "execution_count": 11,
      "metadata": {
        "id": "WY5PnPIulZCc"
      },
      "outputs": [],
      "source": [
        "df_features.to_csv('features.csv', index = False)\n",
        "df_extacted_features.to_csv('extracted features.csv', index = False)\n",
        "df_labels.to_csv('labels.csv', index = False)\n",
        "df_labels_names.to_csv('labels names.csv', index = False)"
      ]
    }
  ],
  "metadata": {
    "accelerator": "GPU",
    "colab": {
      "collapsed_sections": [],
      "name": "CIFAR10_Data.ipynb",
      "provenance": [],
      "machine_shape": "hm",
      "mount_file_id": "1Df3M90ZSgOMzs-J2LYTgOrFvCy3qlRV7",
      "authorship_tag": "ABX9TyMmg2w/8Pv83qgPtBGF7jEg",
      "include_colab_link": true
    },
    "kernelspec": {
      "display_name": "Python 3",
      "name": "python3"
    },
    "language_info": {
      "name": "python"
    }
  },
  "nbformat": 4,
  "nbformat_minor": 0
}