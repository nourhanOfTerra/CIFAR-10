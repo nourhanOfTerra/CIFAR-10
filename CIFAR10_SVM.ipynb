{
  "cells": [
    {
      "cell_type": "markdown",
      "metadata": {
        "id": "view-in-github",
        "colab_type": "text"
      },
      "source": [
        "<a href=\"https://colab.research.google.com/github/nourhanOfTerra/CIFAR-10/blob/main/CIFAR10_SVM.ipynb\" target=\"_parent\"><img src=\"https://colab.research.google.com/assets/colab-badge.svg\" alt=\"Open In Colab\"/></a>"
      ]
    },
    {
      "cell_type": "markdown",
      "metadata": {
        "id": "Clm_mmbn3qCm"
      },
      "source": [
        "#CIFAR-10 Classification Model: Support Vector Machines"
      ]
    },
    {
      "cell_type": "markdown",
      "metadata": {
        "id": "tUAu8sw7CcdI"
      },
      "source": [
        "The overall guide: https://towardsdatascience.com/multiclass-classification-using-k-nearest-neighbours-ca5281a9ef76"
      ]
    },
    {
      "cell_type": "markdown",
      "metadata": {
        "id": "2mLC3BJPpQS7"
      },
      "source": [
        "##Mounting Google Drive"
      ]
    },
    {
      "cell_type": "code",
      "execution_count": 1,
      "metadata": {
        "colab": {
          "base_uri": "https://localhost:8080/"
        },
        "id": "hTdSEv-Fa9cx",
        "outputId": "3329479c-78de-4c13-938f-ba3979bba6c4"
      },
      "outputs": [
        {
          "output_type": "stream",
          "name": "stdout",
          "text": [
            "Drive already mounted at /content/drive; to attempt to forcibly remount, call drive.mount(\"/content/drive\", force_remount=True).\n"
          ]
        }
      ],
      "source": [
        "from google.colab import drive\n",
        "drive.mount('/content/drive')\n",
        "import os\n",
        "os.chdir('/content/drive/MyDrive/CIFAR-10')"
      ]
    },
    {
      "cell_type": "markdown",
      "metadata": {
        "id": "SuOC_n6FrYRz"
      },
      "source": [
        "##Importing the necessary libraries"
      ]
    },
    {
      "cell_type": "markdown",
      "metadata": {
        "id": "TYqv80wtUTp_"
      },
      "source": [
        "###General Libraries"
      ]
    },
    {
      "cell_type": "code",
      "execution_count": 3,
      "metadata": {
        "id": "OF7ZOOF6rgw9"
      },
      "outputs": [],
      "source": [
        "import numpy as np\n",
        "import matplotlib.pyplot as plt\n",
        "import pandas as pd"
      ]
    },
    {
      "cell_type": "markdown",
      "metadata": {
        "id": "o0uGS4YUUPMD"
      },
      "source": [
        "###Model Specific Libraris"
      ]
    },
    {
      "cell_type": "code",
      "execution_count": 12,
      "metadata": {
        "id": "Oqd-bOlbUOqI"
      },
      "outputs": [],
      "source": [
        "from sklearn import preprocessing\n",
        "from sklearn import svm\n",
        "from sklearn.model_selection import train_test_split\n",
        "from sklearn.model_selection import cross_val_score\n",
        "from sklearn.experimental import enable_halving_search_cv\n",
        "from sklearn.model_selection import HalvingGridSearchCV\n",
        "from sklearn.preprocessing import StandardScaler\n",
        "from sklearn.metrics import classification_report, confusion_matrix, accuracy_score"
      ]
    },
    {
      "cell_type": "markdown",
      "metadata": {
        "id": "eQPPJG_epm2Y"
      },
      "source": [
        "##Importing the data from csv files to variables"
      ]
    },
    {
      "cell_type": "code",
      "execution_count": 5,
      "metadata": {
        "id": "-X70qDJpprrP"
      },
      "outputs": [],
      "source": [
        "df_extracted_features = pd.read_csv('extracted features.csv')\n",
        "df_labels = pd.read_csv('labels.csv')"
      ]
    },
    {
      "cell_type": "markdown",
      "source": [
        "Now converting to numpy arrays as they are easier to deal with in the upcoming functions of the scikit-learn library."
      ],
      "metadata": {
        "id": "oaj2KTTV7LsN"
      }
    },
    {
      "cell_type": "code",
      "source": [
        "extracted_features = df_extracted_features.to_numpy()\n",
        "labels = df_labels.to_numpy()"
      ],
      "metadata": {
        "id": "pK2-6Usg5OUs"
      },
      "execution_count": 6,
      "outputs": []
    },
    {
      "cell_type": "markdown",
      "metadata": {
        "id": "35zawaiuvLnK"
      },
      "source": [
        "##Dividing the data into training, validation and tesing sets"
      ]
    },
    {
      "cell_type": "code",
      "execution_count": 7,
      "metadata": {
        "id": "zPFt2WYLrzPS"
      },
      "outputs": [],
      "source": [
        "standard_extracted_features = StandardScaler().fit_transform(extracted_features)        # Necessary standardisation step\n",
        "X_train, X_test, y_train, y_test = train_test_split(standard_extracted_features, labels, test_size = 0.2)"
      ]
    },
    {
      "cell_type": "code",
      "source": [
        "y_train = np.ravel(y_train, order = 'C')\n",
        "y_test = np.ravel(y_test, order = 'C')"
      ],
      "metadata": {
        "id": "Nvgs3Wc0A1Nq"
      },
      "execution_count": 8,
      "outputs": []
    },
    {
      "cell_type": "markdown",
      "metadata": {
        "id": "-y1tHdi5YePK"
      },
      "source": [
        "##Training and Cross Validation\n",
        "Using GridSearchCV to optimize the hyperparameters using all processor cores available to run the processes in parallel to save time. The model is then trained using the best obtained hyperparameters on the training data.\n",
        "\n",
        "Guide: https://www.geeksforgeeks.org/svm-hyperparameter-tuning-using-gridsearchcv-ml/\n",
        "\n",
        "Turns out that GridSearchCV has a very high time complexity, which will make the code take forever to run even while using all cores. Therefore, I will be using HalvingGridSearchCV instead, which will make the code run 20 times faster. This approach uses only a small part of the dataset to run all parameter combinations, then selects the best combinations to run on a larger subset of the data. These two steps are run repeatedly until the optimum hyperparameters are selected.\n",
        "\n",
        "Source: https://towardsdatascience.com/20x-times-faster-grid-search-cross-validation-19ef01409b7c\n",
        "\n",
        "Note that the upcoming block of code needs to run only once.\n"
      ]
    },
    {
      "cell_type": "code",
      "execution_count": 15,
      "metadata": {
        "colab": {
          "base_uri": "https://localhost:8080/"
        },
        "id": "HV-JacLOYgkW",
        "outputId": "d87f130f-8c91-4cb7-cf25-c122ae732d32"
      },
      "outputs": [
        {
          "output_type": "stream",
          "name": "stdout",
          "text": [
            "n_iterations: 4\n",
            "n_required_iterations: 4\n",
            "n_possible_iterations: 4\n",
            "min_resources_: 1777\n",
            "max_resources_: 48000\n",
            "aggressive_elimination: False\n",
            "factor: 3\n",
            "----------\n",
            "iter: 0\n",
            "n_candidates: 50\n",
            "n_resources: 1777\n",
            "Fitting 5 folds for each of 50 candidates, totalling 250 fits\n",
            "----------\n",
            "iter: 1\n",
            "n_candidates: 17\n",
            "n_resources: 5331\n",
            "Fitting 5 folds for each of 17 candidates, totalling 85 fits\n",
            "----------\n",
            "iter: 2\n",
            "n_candidates: 6\n",
            "n_resources: 15993\n",
            "Fitting 5 folds for each of 6 candidates, totalling 30 fits\n",
            "----------\n",
            "iter: 3\n",
            "n_candidates: 2\n",
            "n_resources: 47979\n",
            "Fitting 5 folds for each of 2 candidates, totalling 10 fits\n"
          ]
        },
        {
          "output_type": "stream",
          "name": "stderr",
          "text": [
            "/usr/local/lib/python3.7/dist-packages/joblib/externals/loky/process_executor.py:705: UserWarning: A worker stopped while some jobs were given to the executor. This can be caused by a too short worker timeout or by a memory leak.\n",
            "  \"timeout or by a memory leak.\", UserWarning\n"
          ]
        },
        {
          "output_type": "stream",
          "name": "stdout",
          "text": [
            "{'C': 100, 'gamma': 0.001, 'kernel': 'rbf'}\n",
            "\n",
            "SVC(C=100, gamma=0.001)\n"
          ]
        }
      ],
      "source": [
        "#parameters = {'C': [0.1, 1, 10, 100, 1000], 'gamma': [1, 0.1, 0.01, 0.001, 0.0001], 'kernel': ['rbf', 'poly']}\n",
        "#model = HalvingGridSearchCV(svm.SVC(), parameters, verbose = 3, n_jobs = -1, factor = 3)\n",
        "#model.fit(X_train, y_train)\n",
        "#print(model.best_params_)\n",
        "#print()\n",
        "#print(model.best_estimator_)"
      ]
    },
    {
      "cell_type": "markdown",
      "metadata": {
        "id": "on10MTuVApGO"
      },
      "source": [
        "According to the result from the HalvingGridSearchCV, the optimum hyperparameters are:\n",
        "\n",
        "C = 100\n",
        "\n",
        "gamma = 0.001\n",
        "\n",
        "kernel = 'rbf\n",
        "\n",
        "The downside to this method is that these values are the best from the manually suggested values in the parameter dictionary in the above code block. This means that there might be some unexplored better options."
      ]
    },
    {
      "cell_type": "code",
      "source": [
        "model = svm.SVC(C = 100, kernel = 'rbf', gamma = 0.001)\n",
        "model.fit(X_train, y_train)"
      ],
      "metadata": {
        "colab": {
          "base_uri": "https://localhost:8080/"
        },
        "id": "AoRM_hycYPQF",
        "outputId": "699b2cfd-0cee-4e5f-df88-7684de0cf7b0"
      },
      "execution_count": 17,
      "outputs": [
        {
          "output_type": "execute_result",
          "data": {
            "text/plain": [
              "SVC(C=100, gamma=0.001)"
            ]
          },
          "metadata": {},
          "execution_count": 17
        }
      ]
    },
    {
      "cell_type": "markdown",
      "metadata": {
        "id": "fkJRL32HYxJJ"
      },
      "source": [
        "##Testing"
      ]
    },
    {
      "cell_type": "code",
      "execution_count": 18,
      "metadata": {
        "colab": {
          "base_uri": "https://localhost:8080/"
        },
        "id": "SGNrqVG9Yy12",
        "outputId": "c89b10c0-5007-4f19-bfd6-8538fb0deefd"
      },
      "outputs": [
        {
          "output_type": "stream",
          "name": "stdout",
          "text": [
            "The confusion matrix: \n",
            "[[695  71  67  24  40  15  21  27 147  60]\n",
            " [ 55 780  11  21  18  11  20  20  53 175]\n",
            " [ 93  29 549 104 141  83  77  54  22  23]\n",
            " [ 35  31 125 518  83 207 108  61  22  48]\n",
            " [ 60   8 161  89 631  57  71  96  19  18]\n",
            " [ 13  24 136 241  82 527  58  94  14  22]\n",
            " [ 18  32  96 133 114  57 700  19  19  22]\n",
            " [ 28  22  64  86  99  95  21 709  10  42]\n",
            " [131  64  25  26  21  14   8   6 824  58]\n",
            " [ 62 216  11  37  26  17  17  39  74 773]]\n",
            "\n",
            "The classification report: \n",
            "              precision    recall  f1-score   support\n",
            "\n",
            "           0       0.58      0.60      0.59      1167\n",
            "           1       0.61      0.67      0.64      1164\n",
            "           2       0.44      0.47      0.45      1175\n",
            "           3       0.41      0.42      0.41      1238\n",
            "           4       0.50      0.52      0.51      1210\n",
            "           5       0.49      0.44      0.46      1211\n",
            "           6       0.64      0.58      0.61      1210\n",
            "           7       0.63      0.60      0.62      1176\n",
            "           8       0.68      0.70      0.69      1177\n",
            "           9       0.62      0.61      0.62      1272\n",
            "\n",
            "    accuracy                           0.56     12000\n",
            "   macro avg       0.56      0.56      0.56     12000\n",
            "weighted avg       0.56      0.56      0.56     12000\n",
            "\n",
            "\n",
            "Test Accuracy:  0.5588333333333333\n"
          ]
        }
      ],
      "source": [
        "y_predicted = model.predict(X_test)\n",
        "confused = confusion_matrix(y_test, y_predicted)\n",
        "print(\"The confusion matrix: \")\n",
        "print(confused)\n",
        "report = classification_report(y_test, y_predicted)\n",
        "print(\"\\nThe classification report: \")\n",
        "print(report)\n",
        "acc_score = accuracy_score(y_test, y_predicted)\n",
        "print(\"\\nTest Accuracy: \", acc_score)"
      ]
    }
  ],
  "metadata": {
    "colab": {
      "collapsed_sections": [],
      "name": "CIFAR10_SVM.ipynb",
      "provenance": [],
      "authorship_tag": "ABX9TyMKZ3qZKizqDX0oaH3tico7",
      "include_colab_link": true
    },
    "kernelspec": {
      "display_name": "Python 3",
      "name": "python3"
    },
    "language_info": {
      "name": "python"
    }
  },
  "nbformat": 4,
  "nbformat_minor": 0
}