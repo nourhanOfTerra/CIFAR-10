{
  "nbformat": 4,
  "nbformat_minor": 0,
  "metadata": {
    "colab": {
      "name": "CIFAR10_SVM.ipynb",
      "provenance": [],
      "collapsed_sections": [],
      "authorship_tag": "ABX9TyPjLBllPB2AMxg9SBiG+GWD",
      "include_colab_link": true
    },
    "kernelspec": {
      "name": "python3",
      "display_name": "Python 3"
    },
    "language_info": {
      "name": "python"
    }
  },
  "cells": [
    {
      "cell_type": "markdown",
      "metadata": {
        "id": "view-in-github",
        "colab_type": "text"
      },
      "source": [
        "<a href=\"https://colab.research.google.com/github/nourhanOfTerra/CIFAR-10/blob/main/CIFAR10_SVM.ipynb\" target=\"_parent\"><img src=\"https://colab.research.google.com/assets/colab-badge.svg\" alt=\"Open In Colab\"/></a>"
      ]
    },
    {
      "cell_type": "markdown",
      "source": [
        "#CIFAR-10 Classification Model: Support Vector Machines"
      ],
      "metadata": {
        "id": "Clm_mmbn3qCm"
      }
    },
    {
      "cell_type": "markdown",
      "source": [
        "The overall guide: https://towardsdatascience.com/multiclass-classification-using-k-nearest-neighbours-ca5281a9ef76"
      ],
      "metadata": {
        "id": "tUAu8sw7CcdI"
      }
    },
    {
      "cell_type": "markdown",
      "source": [
        "##Mounting Google Drive"
      ],
      "metadata": {
        "id": "2mLC3BJPpQS7"
      }
    },
    {
      "cell_type": "code",
      "source": [
        "from google.colab import drive\n",
        "drive.mount('/content/drive')\n",
        "import os\n",
        "os.chdir('/content/drive/MyDrive/CIFAR-10')"
      ],
      "metadata": {
        "colab": {
          "base_uri": "https://localhost:8080/"
        },
        "id": "hTdSEv-Fa9cx",
        "outputId": "25b2fa9a-cc4a-40cf-85a4-77fc72cb451c"
      },
      "execution_count": 1,
      "outputs": [
        {
          "output_type": "stream",
          "name": "stdout",
          "text": [
            "Drive already mounted at /content/drive; to attempt to forcibly remount, call drive.mount(\"/content/drive\", force_remount=True).\n"
          ]
        }
      ]
    },
    {
      "cell_type": "markdown",
      "source": [
        "##Importing the necessary libraries"
      ],
      "metadata": {
        "id": "SuOC_n6FrYRz"
      }
    },
    {
      "cell_type": "markdown",
      "source": [
        "###General Libraries"
      ],
      "metadata": {
        "id": "TYqv80wtUTp_"
      }
    },
    {
      "cell_type": "code",
      "source": [
        "import numpy as np\n",
        "import matplotlib.pyplot as plt\n",
        "import pandas as pd"
      ],
      "metadata": {
        "id": "OF7ZOOF6rgw9"
      },
      "execution_count": 2,
      "outputs": []
    },
    {
      "cell_type": "markdown",
      "source": [
        "###Model Specific Libraris"
      ],
      "metadata": {
        "id": "o0uGS4YUUPMD"
      }
    },
    {
      "cell_type": "code",
      "source": [
        "from sklearn import preprocessing\n",
        "from sklearn import svm\n",
        "from sklearn.model_selection import train_test_split\n",
        "from sklearn.model_selection import cross_val_score\n",
        "from sklearn.model_selection import GridSearchCV\n",
        "from sklearn.preprocessing import StandardScaler\n",
        "from sklearn.metrics import classification_report, confusion_matrix, accuracy_score"
      ],
      "metadata": {
        "id": "Oqd-bOlbUOqI"
      },
      "execution_count": 3,
      "outputs": []
    },
    {
      "cell_type": "markdown",
      "source": [
        "##Importing the data from csv files to variables"
      ],
      "metadata": {
        "id": "eQPPJG_epm2Y"
      }
    },
    {
      "cell_type": "code",
      "source": [
        "extracted_features = pd.read_csv('extracted features.csv')\n",
        "labels = pd.read_csv('labels.csv')"
      ],
      "metadata": {
        "id": "-X70qDJpprrP"
      },
      "execution_count": 4,
      "outputs": []
    },
    {
      "cell_type": "markdown",
      "source": [
        "##Dividing the data into training, validation and tesing sets"
      ],
      "metadata": {
        "id": "35zawaiuvLnK"
      }
    },
    {
      "cell_type": "code",
      "source": [
        "standard_extracted_features = pd.DataFrame(StandardScaler().fit_transform(extracted_features))        # Necessary standardisation step\n",
        "X_train, X_test, y_train, y_test = train_test_split(standard_extracted_features, labels, test_size = 0.2)"
      ],
      "metadata": {
        "id": "zPFt2WYLrzPS"
      },
      "execution_count": 5,
      "outputs": []
    },
    {
      "cell_type": "markdown",
      "source": [
        "##Training and Cross Validation\n",
        "Using GridSearchCV to optimize the hyperparameters, then the model is trained.\n",
        "\n",
        "Guide: https://www.geeksforgeeks.org/svm-hyperparameter-tuning-using-gridsearchcv-ml/"
      ],
      "metadata": {
        "id": "-y1tHdi5YePK"
      }
    },
    {
      "cell_type": "code",
      "source": [
        "parameters = {'C': [0.1, 1, 10, 100, 1000], 'gamma': [1, 0.1, 0.01, 0.001, 0.0001], 'kernel': ['rbf', 'poly']}\n",
        "model = GridSearchCV(svm.SVC(), parameters, refit = True, verbose = 3)\n",
        "model.fit(X_train, y_train.values.ravel())\n",
        "print(model.best_params_)\n",
        "print()\n",
        "print(model.best_estimator_)"
      ],
      "metadata": {
        "colab": {
          "base_uri": "https://localhost:8080/"
        },
        "id": "HV-JacLOYgkW",
        "outputId": "e88e0804-6e86-499e-dc1a-159395f11f60"
      },
      "execution_count": null,
      "outputs": [
        {
          "output_type": "stream",
          "name": "stdout",
          "text": [
            "Fitting 5 folds for each of 50 candidates, totalling 250 fits\n",
            "[CV 1/5] END ........C=0.1, gamma=1, kernel=rbf;, score=0.101 total time=15.6min\n",
            "[CV 2/5] END ........C=0.1, gamma=1, kernel=rbf;, score=0.101 total time=15.6min\n",
            "[CV 3/5] END ........C=0.1, gamma=1, kernel=rbf;, score=0.101 total time=15.7min\n",
            "[CV 4/5] END ........C=0.1, gamma=1, kernel=rbf;, score=0.101 total time=15.5min\n",
            "[CV 5/5] END ........C=0.1, gamma=1, kernel=rbf;, score=0.101 total time=15.7min\n",
            "[CV 1/5] END .......C=0.1, gamma=1, kernel=poly;, score=0.390 total time=15.2min\n",
            "[CV 2/5] END .......C=0.1, gamma=1, kernel=poly;, score=0.392 total time=14.9min\n"
          ]
        }
      ]
    },
    {
      "cell_type": "markdown",
      "source": [
        "Apparently, we can get the highest accuracy (25%) by putting the number of neighbors to be 1. The thing is, 1 Nearest Neighbor will cause overfitting of the model, and we don't want that now, do we? Every thing else will give nearly the same accuracy, so let's go with the conventional 5-NN to fit our model."
      ],
      "metadata": {
        "id": "on10MTuVApGO"
      }
    },
    {
      "cell_type": "code",
      "source": [
        "knn = KNeighborsClassifier(n_neighbors = 5)\n",
        "knn.fit(X_train, y_train)"
      ],
      "metadata": {
        "colab": {
          "base_uri": "https://localhost:8080/"
        },
        "id": "6ju3GjOU8Zs9",
        "outputId": "e8590173-0576-48e6-846b-ab11e89a5e7f"
      },
      "execution_count": null,
      "outputs": [
        {
          "output_type": "stream",
          "name": "stderr",
          "text": [
            "/usr/local/lib/python3.7/dist-packages/sklearn/neighbors/_classification.py:198: DataConversionWarning: A column-vector y was passed when a 1d array was expected. Please change the shape of y to (n_samples,), for example using ravel().\n",
            "  return self._fit(X, y)\n"
          ]
        },
        {
          "output_type": "execute_result",
          "data": {
            "text/plain": [
              "KNeighborsClassifier()"
            ]
          },
          "metadata": {},
          "execution_count": 18
        }
      ]
    },
    {
      "cell_type": "markdown",
      "source": [
        "##Testing"
      ],
      "metadata": {
        "id": "fkJRL32HYxJJ"
      }
    },
    {
      "cell_type": "code",
      "source": [
        "y_predicted = knn.predict(X_test)\n",
        "confused = confusion_matrix(y_test, y_predicted)\n",
        "print(\"The confusion matrix: \")\n",
        "print(confused)\n",
        "report = classification_report(y_test, y_predicted)\n",
        "print(\"\\nThe classification report: \")\n",
        "print(report)\n",
        "acc_score = accuracy_score(y_test, y_predicted)\n",
        "print(\"\\nTest Accuracy: \", acc_score)"
      ],
      "metadata": {
        "colab": {
          "base_uri": "https://localhost:8080/"
        },
        "id": "SGNrqVG9Yy12",
        "outputId": "266fee16-ee9a-4666-cc9b-8686957d86a3"
      },
      "execution_count": null,
      "outputs": [
        {
          "output_type": "stream",
          "name": "stdout",
          "text": [
            "The confusion matrix: \n",
            "[[594   0 119   8 100   0  12   1 394   0]\n",
            " [270  62 117  32 270   6  30   2 376   1]\n",
            " [286   0 340  28 395   7  22   0 105   0]\n",
            " [333   1 279 109 319  17  30   1 126   0]\n",
            " [277   0 137  16 658   1   9   0  91   0]\n",
            " [314   0 334  85 308  60  31   2  89   0]\n",
            " [182   2 192  47 533   1 117   1  89   0]\n",
            " [247   1 214  35 496  14  20  71 108   0]\n",
            " [316   0  71  13  87   2   7   0 743   0]\n",
            " [225   7 170  43 292   7  26   4 409   4]]\n",
            "\n",
            "The classification report: \n",
            "              precision    recall  f1-score   support\n",
            "\n",
            "           0       0.20      0.48      0.28      1228\n",
            "           1       0.85      0.05      0.10      1166\n",
            "           2       0.17      0.29      0.22      1183\n",
            "           3       0.26      0.09      0.13      1215\n",
            "           4       0.19      0.55      0.28      1189\n",
            "           5       0.52      0.05      0.09      1223\n",
            "           6       0.38      0.10      0.16      1164\n",
            "           7       0.87      0.06      0.11      1206\n",
            "           8       0.29      0.60      0.39      1239\n",
            "           9       0.80      0.00      0.01      1187\n",
            "\n",
            "    accuracy                           0.23     12000\n",
            "   macro avg       0.45      0.23      0.18     12000\n",
            "weighted avg       0.45      0.23      0.18     12000\n",
            "\n",
            "\n",
            "Test Accuracy:  0.22983333333333333\n"
          ]
        }
      ]
    }
  ]
}